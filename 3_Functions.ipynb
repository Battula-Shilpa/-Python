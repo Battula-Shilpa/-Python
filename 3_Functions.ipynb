{
  "nbformat": 4,
  "nbformat_minor": 0,
  "metadata": {
    "colab": {
      "provenance": [],
      "mount_file_id": "1NfZ3QOpgCpKgy2lCtId71JwPWmWQPKs8",
      "authorship_tag": "ABX9TyMDLBSTHgJ/2p0fbH+Ug7AL",
      "include_colab_link": true
    },
    "kernelspec": {
      "name": "python3",
      "display_name": "Python 3"
    },
    "language_info": {
      "name": "python"
    }
  },
  "cells": [
    {
      "cell_type": "markdown",
      "metadata": {
        "id": "view-in-github",
        "colab_type": "text"
      },
      "source": [
        "<a href=\"https://colab.research.google.com/github/Battula-Shilpa/-Python/blob/main/3_Functions.ipynb\" target=\"_parent\"><img src=\"https://colab.research.google.com/assets/colab-badge.svg\" alt=\"Open In Colab\"/></a>"
      ]
    },
    {
      "cell_type": "markdown",
      "source": [
        "# FUNCTIONS"
      ],
      "metadata": {
        "id": "3-VtRnOQEINF"
      }
    },
    {
      "cell_type": "markdown",
      "source": [
        "Definition:\n",
        "- A function is a block of code that performs a specific task. Functions help in organizing code, reusing code, and improving readability."
      ],
      "metadata": {
        "id": "JWy8_KrpwbGy"
      }
    },
    {
      "cell_type": "code",
      "execution_count": null,
      "metadata": {
        "id": "ra8YFR2SvYi8"
      },
      "outputs": [],
      "source": [
        "# syntax\n",
        "def function_name(parameters):\n",
        "  \"\"\"Docstring\"\"\"\n",
        "  #function body\n",
        "  return expression"
      ]
    },
    {
      "cell_type": "code",
      "source": [
        "## why function?\n",
        "num = 20\n",
        "if num%2==0:\n",
        "  print(\"The number is even\")\n",
        "else:\n",
        "  print(\"The number is odd\")"
      ],
      "metadata": {
        "colab": {
          "base_uri": "https://localhost:8080/"
        },
        "id": "h9ezNsQwxDIN",
        "outputId": "969d0eb0-dcfd-4038-ea3a-f7dd655876da"
      },
      "execution_count": null,
      "outputs": [
        {
          "output_type": "stream",
          "name": "stdout",
          "text": [
            "The number is even\n"
          ]
        }
      ]
    },
    {
      "cell_type": "code",
      "source": [
        "#by using lambda\n",
        "num = int(input(\"Enter the number:\"))\n",
        "even_odd = lambda x :\"The number is even\" if x%2==0 else \"The number is odd\"\n",
        "even_odd(num)"
      ],
      "metadata": {
        "colab": {
          "base_uri": "https://localhost:8080/",
          "height": 54
        },
        "id": "wqeTd4g5xYH9",
        "outputId": "9df2b301-142c-4e83-fc23-8325cac8c571"
      },
      "execution_count": null,
      "outputs": [
        {
          "name": "stdout",
          "output_type": "stream",
          "text": [
            "Enter the number:11\n"
          ]
        },
        {
          "output_type": "execute_result",
          "data": {
            "text/plain": [
              "'The number is odd'"
            ],
            "application/vnd.google.colaboratory.intrinsic+json": {
              "type": "string"
            }
          },
          "metadata": {},
          "execution_count": 13
        }
      ]
    },
    {
      "cell_type": "code",
      "source": [
        "# by using function\n",
        "def even_odd(num):\n",
        "  if num%2==0:\n",
        "    print(\"The number is even\")\n",
        "  else:\n",
        "    print(\"The number is odd\")\n",
        "\n",
        "#calling function\n",
        "even_odd(12)"
      ],
      "metadata": {
        "colab": {
          "base_uri": "https://localhost:8080/"
        },
        "id": "AM7CYYQMzBoS",
        "outputId": "2a523c74-4685-4ac9-a4c7-2ccad7f6ff18"
      },
      "execution_count": null,
      "outputs": [
        {
          "output_type": "stream",
          "name": "stdout",
          "text": [
            "The number is even\n"
          ]
        }
      ]
    },
    {
      "cell_type": "code",
      "source": [
        "# functions with multiple parameters\n",
        "def add(a,b):\n",
        "  return a+b\n",
        "\n",
        "add(2,3)"
      ],
      "metadata": {
        "colab": {
          "base_uri": "https://localhost:8080/"
        },
        "id": "aaHHXoedz7cA",
        "outputId": "f97445d0-fcbd-410b-cbe8-820f04cf7710"
      },
      "execution_count": null,
      "outputs": [
        {
          "output_type": "execute_result",
          "data": {
            "text/plain": [
              "5"
            ]
          },
          "metadata": {},
          "execution_count": 18
        }
      ]
    },
    {
      "cell_type": "code",
      "source": [
        "def greet(name):\n",
        "  print(f\"Hello {name}\")\n",
        "\n",
        "greet(str(input()))"
      ],
      "metadata": {
        "colab": {
          "base_uri": "https://localhost:8080/"
        },
        "id": "EcTfkMTp0SFK",
        "outputId": "254446da-68a1-44d8-a5a9-b64e5097e3e8"
      },
      "execution_count": null,
      "outputs": [
        {
          "output_type": "stream",
          "name": "stdout",
          "text": [
            "Shilpa\n",
            "Hello Shilpa\n"
          ]
        }
      ]
    },
    {
      "cell_type": "code",
      "source": [
        "## Default parameters\n",
        "def greet(name = \"Guest\"):\n",
        "  print(f\"Hello {name}, Welcome to cafe\")\n",
        "\n",
        "greet(\"Shilpa\")\n",
        "greet()\n",
        "\n",
        "def getmecoffee(cost=30):\n",
        "  print(\"Coffee price is \"+ str(cost))\n",
        "\n",
        "getmecoffee(20)\n",
        "getmecoffee()"
      ],
      "metadata": {
        "colab": {
          "base_uri": "https://localhost:8080/"
        },
        "id": "wEk2i47N0VYE",
        "outputId": "5c9c8748-3d72-4b7b-dacf-907f439476e2"
      },
      "execution_count": null,
      "outputs": [
        {
          "output_type": "stream",
          "name": "stdout",
          "text": [
            "Hello Shilpa, Welcome to cafe\n",
            "Hello Guest, Welcome to cafe\n",
            "Coffee price is 20\n",
            "Coffee price is 30\n"
          ]
        }
      ]
    },
    {
      "cell_type": "code",
      "source": [
        "### Variable Length Arguments\n",
        "## Positional And Keywords arguments\n",
        "\n",
        "def print_numbers(*arg):\n",
        "  for number in arg:\n",
        "    print(number)\n",
        "\n",
        "print_numbers(1,2,3,4,5,6,7,8,\"anytext\")"
      ],
      "metadata": {
        "colab": {
          "base_uri": "https://localhost:8080/"
        },
        "id": "uUMGe6cg2nm7",
        "outputId": "952d541d-c6b8-428b-a1d0-da8df654f451"
      },
      "execution_count": null,
      "outputs": [
        {
          "output_type": "stream",
          "name": "stdout",
          "text": [
            "1\n",
            "2\n",
            "3\n",
            "4\n",
            "5\n",
            "6\n",
            "7\n",
            "8\n",
            "anytext\n"
          ]
        }
      ]
    },
    {
      "cell_type": "code",
      "source": [
        "### Keywords Arguments\n",
        "\n",
        "def print_details(**kwargs):\n",
        "    for key,value in kwargs.items():\n",
        "        print(f\"{key}:{value}\")\n",
        "\n",
        "print_details(Name=\"Shilpa\",Age = \"21\",Country = \"India\")"
      ],
      "metadata": {
        "colab": {
          "base_uri": "https://localhost:8080/"
        },
        "id": "QtDOG3Ps3hM3",
        "outputId": "02faf642-179b-4def-f4d8-3f35951f75e1"
      },
      "execution_count": null,
      "outputs": [
        {
          "output_type": "stream",
          "name": "stdout",
          "text": [
            "Name:Shilpa\n",
            "Age:21\n",
            "Country:India\n"
          ]
        }
      ]
    },
    {
      "cell_type": "code",
      "source": [
        "def print_details(*args,**kwargs):\n",
        "  for val in args:\n",
        "    print(f\"positional argunment : {val}\")\n",
        "  for key,value in kwargs.items():\n",
        "    print(f\"{key}:{value}\")\n",
        "\n",
        "print_details(1,2,\"Shilpa\",Name=\"Shilpa\",Age = \"21\",Country = \"India\")"
      ],
      "metadata": {
        "colab": {
          "base_uri": "https://localhost:8080/"
        },
        "id": "aF0Lddmh4UWx",
        "outputId": "bd16a591-6049-4178-a2a7-fb34e0c7e967"
      },
      "execution_count": null,
      "outputs": [
        {
          "output_type": "stream",
          "name": "stdout",
          "text": [
            "positional argunment : 1\n",
            "positional argunment : 2\n",
            "positional argunment : Shilpa\n",
            "Name:Shilpa\n",
            "Age:21\n",
            "Country:India\n"
          ]
        }
      ]
    },
    {
      "cell_type": "code",
      "source": [
        "## Return statements\n",
        "def multiply(a,b):\n",
        "  return a*b\n",
        "\n",
        "multiply(2,3)"
      ],
      "metadata": {
        "colab": {
          "base_uri": "https://localhost:8080/"
        },
        "id": "vpgyXofc5bcc",
        "outputId": "060cba55-f50e-4b4c-a090-3d1f2f5a6141"
      },
      "execution_count": null,
      "outputs": [
        {
          "output_type": "execute_result",
          "data": {
            "text/plain": [
              "6"
            ]
          },
          "metadata": {},
          "execution_count": 38
        }
      ]
    },
    {
      "cell_type": "code",
      "source": [
        "### return multiple parameters\n",
        "def multiply(a,b):\n",
        "    return a*b,a\n",
        "\n",
        "as_single_return= multiply(2,3)\n",
        "mul,a= multiply(2,3)\n",
        "\n",
        "print(as_single_return)\n",
        "print(mul)\n",
        "print(a)"
      ],
      "metadata": {
        "colab": {
          "base_uri": "https://localhost:8080/"
        },
        "id": "NnJKtHcu54YD",
        "outputId": "2e2f54d8-fdea-4fde-b587-326b0d36b7d0"
      },
      "execution_count": null,
      "outputs": [
        {
          "output_type": "stream",
          "name": "stdout",
          "text": [
            "(6, 2)\n",
            "6\n",
            "2\n"
          ]
        }
      ]
    },
    {
      "cell_type": "markdown",
      "source": [
        "# *Higher order function*"
      ],
      "metadata": {
        "id": "0QLm-ciy7fq6"
      }
    },
    {
      "cell_type": "markdown",
      "source": [
        "A Higher-Order Function (HOF) is a function that does at least one of the following:\n",
        "\n",
        "- Takes another function as an argument\n",
        "- Returns a function as a result"
      ],
      "metadata": {
        "id": "ttwUT1U47o0G"
      }
    },
    {
      "cell_type": "code",
      "source": [
        "#Function as an Argument\n",
        "def square(x):\n",
        "    return x * x\n",
        "\n",
        "def apply_function(func, value):\n",
        "    return func(value)\n",
        "\n",
        "result = apply_function(square, 5)\n",
        "print(result)"
      ],
      "metadata": {
        "colab": {
          "base_uri": "https://localhost:8080/"
        },
        "id": "fSAF7Es88ABB",
        "outputId": "037baea7-e1a8-4577-8cf1-d16d6a2914cc"
      },
      "execution_count": null,
      "outputs": [
        {
          "output_type": "stream",
          "name": "stdout",
          "text": [
            "25\n"
          ]
        }
      ]
    },
    {
      "cell_type": "code",
      "source": [
        "#Function Returning Another Function\n",
        "def multiplier(n):\n",
        "    return lambda x: x * n\n",
        "\n",
        "double= multiplier(2)  # Returns a function that multiplies by 2\n",
        "print(double(5))"
      ],
      "metadata": {
        "colab": {
          "base_uri": "https://localhost:8080/"
        },
        "id": "L7ArZtTe8UBe",
        "outputId": "716c4339-2486-4c26-8a96-d6ce1874e188"
      },
      "execution_count": null,
      "outputs": [
        {
          "output_type": "stream",
          "name": "stdout",
          "text": [
            "10\n"
          ]
        }
      ]
    },
    {
      "cell_type": "code",
      "source": [
        "#Common Higher-Order Functions in Python\n",
        "#Python has built-in HOFs like map(), filter(), and reduce():\n",
        "nums = [1, 2, 3, 4, 5]\n",
        "\n",
        "# Using map() (applies function to each element)\n",
        "squared = list(map(lambda x: x * x, nums))\n",
        "print(squared)"
      ],
      "metadata": {
        "colab": {
          "base_uri": "https://localhost:8080/"
        },
        "id": "OGscatYP8tJT",
        "outputId": "c4302930-938e-4db8-f16a-bf94218a2fe7"
      },
      "execution_count": null,
      "outputs": [
        {
          "output_type": "stream",
          "name": "stdout",
          "text": [
            "[1, 4, 9, 16, 25]\n"
          ]
        }
      ]
    },
    {
      "cell_type": "code",
      "source": [
        "def square(num):\n",
        "  return num*num\n",
        "def mul(num):\n",
        "  return num*10\n",
        "\n",
        "mul(9)\n",
        "\n",
        "def highorderfun(func,num):\n",
        "    print(func(num))\n",
        "\n",
        "\n",
        "highorderfun(square,4)\n",
        "highorderfun(mul,78)"
      ],
      "metadata": {
        "colab": {
          "base_uri": "https://localhost:8080/"
        },
        "id": "EK1oZbVg64by",
        "outputId": "ff53c876-908c-472e-ceed-b29287955d5a"
      },
      "execution_count": null,
      "outputs": [
        {
          "output_type": "stream",
          "name": "stdout",
          "text": [
            "16\n",
            "780\n"
          ]
        }
      ]
    },
    {
      "cell_type": "markdown",
      "source": [
        "# Decorator\n",
        "- *higher-order function called addsectohttp, which is a decorator*"
      ],
      "metadata": {
        "id": "mGnk9jkU9KTp"
      }
    },
    {
      "cell_type": "code",
      "source": [
        "#Understanding the Code\n",
        "def addsectohttp(func):  # Higher-order function (Decorator)\n",
        "    def wrapper(param2):  # Inner function (Wrapper)\n",
        "        changeddata = param2 + \" Security\"  # Modifies the input\n",
        "        func(changeddata)  # Calls the original function with modified data\n",
        "    return wrapper  # Returns the wrapper function"
      ],
      "metadata": {
        "id": "JxA0ngmI8-4s"
      },
      "execution_count": null,
      "outputs": []
    },
    {
      "cell_type": "code",
      "source": [
        "#Using the Decorator\n",
        "@addsectohttp\n",
        "def print_message(msg):\n",
        "    print(msg)\n",
        "\n",
        "print_message(\"HTTP\")\n"
      ],
      "metadata": {
        "colab": {
          "base_uri": "https://localhost:8080/"
        },
        "id": "e05UWIDa94Wy",
        "outputId": "cd8f6f46-f996-4355-a402-8293748cc30f"
      },
      "execution_count": null,
      "outputs": [
        {
          "output_type": "stream",
          "name": "stdout",
          "text": [
            "HTTP Security\n"
          ]
        }
      ]
    },
    {
      "cell_type": "code",
      "source": [
        "def decorater_function(original_function):\n",
        "  def wrapper_function():\n",
        "    print(f\"wrapper excuted before \",original_function.__name__)\n",
        "    return original_function()\n",
        "  return wrapper_function\n",
        "\n",
        "def display():\n",
        "  print(\"original function is excuted\")\n",
        "\n",
        "decorated_display = decorater_function(display)\n",
        "decorated_display()"
      ],
      "metadata": {
        "colab": {
          "base_uri": "https://localhost:8080/"
        },
        "id": "U_6zoPjm9Mpe",
        "outputId": "d8b9d716-ab59-4062-bb20-2991f06c06a3"
      },
      "execution_count": null,
      "outputs": [
        {
          "output_type": "stream",
          "name": "stdout",
          "text": [
            "wrapper excuted before  display\n",
            "original function is excuted\n"
          ]
        }
      ]
    },
    {
      "cell_type": "code",
      "source": [
        "#Using @decorator Syntax\n",
        "def decorator_function(original_function):\n",
        "  def wrapper_function():\n",
        "    print(f\"wrapper excuted before\",original_function.__name__)\n",
        "    return original_function\n",
        "  return wrapper_function\n",
        "\n",
        "@decorator_function\n",
        "def display():\n",
        "  print(\"original function is excuted\")\n",
        "\n",
        "display()"
      ],
      "metadata": {
        "colab": {
          "base_uri": "https://localhost:8080/",
          "height": 122
        },
        "id": "Bj5_Z_2a-1U5",
        "outputId": "2631aac2-909d-40a4-c833-c57cd3315589"
      },
      "execution_count": null,
      "outputs": [
        {
          "output_type": "stream",
          "name": "stdout",
          "text": [
            "wrapper excuted before display\n"
          ]
        },
        {
          "output_type": "execute_result",
          "data": {
            "text/plain": [
              "<function __main__.display()>"
            ],
            "text/html": [
              "<div style=\"max-width:800px; border: 1px solid var(--colab-border-color);\"><style>\n",
              "      pre.function-repr-contents {\n",
              "        overflow-x: auto;\n",
              "        padding: 8px 12px;\n",
              "        max-height: 500px;\n",
              "      }\n",
              "\n",
              "      pre.function-repr-contents.function-repr-contents-collapsed {\n",
              "        cursor: pointer;\n",
              "        max-height: 100px;\n",
              "      }\n",
              "    </style>\n",
              "    <pre style=\"white-space: initial; background:\n",
              "         var(--colab-secondary-surface-color); padding: 8px 12px;\n",
              "         border-bottom: 1px solid var(--colab-border-color);\"><b>display</b><br/>def display()</pre><pre class=\"function-repr-contents function-repr-contents-collapsed\" style=\"\"><a class=\"filepath\" style=\"display:none\" href=\"#\">/content/&lt;ipython-input-8-de41c7525ac4&gt;</a>&lt;no docstring&gt;</pre></div>"
            ]
          },
          "metadata": {},
          "execution_count": 8
        }
      ]
    },
    {
      "cell_type": "code",
      "source": [
        "#Using Arguments in Decorators\n",
        "def decorator_functions(original_functions):\n",
        "  def wrapper_function(*args,**kwargs):\n",
        "    print(f\"wrapper excuted before\",original_functions.__name__)\n",
        "    return original_functions(*args,**kwargs)\n",
        "  return wrapper_function\n",
        "\n",
        "@decorator_functions\n",
        "def display_info(name,age):\n",
        "  print(f\"Name: {name},Age: {age}\")\n",
        "\n",
        "display_info(\"Alice\",11)"
      ],
      "metadata": {
        "colab": {
          "base_uri": "https://localhost:8080/"
        },
        "id": "r1xRqcBxAhEd",
        "outputId": "5f29fa25-f775-49d6-f9b5-a28c9c48fc4d"
      },
      "execution_count": null,
      "outputs": [
        {
          "output_type": "stream",
          "name": "stdout",
          "text": [
            "wrapper excuted before display_info\n",
            "Name: Alice,Age: 11\n"
          ]
        }
      ]
    },
    {
      "cell_type": "code",
      "source": [
        "#Practical Examples of Decorators\n",
        "#1.Logging Decorator\n",
        "def logger(func):\n",
        "  def wrapper(*args,**kwargs):\n",
        "    print(f\"Function '{func.__name__}'called with arguments: {args} {kwargs}\")\n",
        "    return func(*args,**kwargs)\n",
        "  return wrapper\n",
        "\n",
        "@logger\n",
        "def add(a,b):\n",
        "  return a+b\n",
        "@logger\n",
        "def mul(a,b):\n",
        "  return a*b\n",
        "\n",
        "print(add(2,4))\n",
        "print(mul(2,4))"
      ],
      "metadata": {
        "colab": {
          "base_uri": "https://localhost:8080/"
        },
        "id": "yFIns518CaJm",
        "outputId": "139b6481-2bac-497c-ac41-e15559be9c2e"
      },
      "execution_count": null,
      "outputs": [
        {
          "output_type": "stream",
          "name": "stdout",
          "text": [
            "Function 'add'called with arguments: (2, 4) {}\n",
            "6\n",
            "Function 'mul'called with arguments: (2, 4) {}\n",
            "8\n"
          ]
        }
      ]
    },
    {
      "cell_type": "markdown",
      "source": [
        "# Built-in Decorators\n",
        " - **@staticmethod :** Defines a method that doesn't use self or cls.\n",
        " - **@classmethod :** Defines a method that works with the class (cls). It takes cls as the first parameter instead of self.\n",
        " - **@property :** Defines a getter method that behaves like an attribute."
      ],
      "metadata": {
        "id": "6czGvXeKEmhN"
      }
    },
    {
      "cell_type": "code",
      "source": [
        "# staticmethod\n",
        "class mathOperations():\n",
        "  @staticmethod\n",
        "  def add(a,b):\n",
        "    return a+b\n",
        "\n",
        "  def sub(a,b):\n",
        "    return a-b\n",
        "\n",
        "  def mul(a,b):\n",
        "    return(a*b)\n",
        "\n",
        "# Calling the method without creating an instance\n",
        "print(mathOperations.add(2,3))\n",
        "print(mathOperations.sub(9,3))\n",
        "print(mathOperations.mul(4,5))"
      ],
      "metadata": {
        "colab": {
          "base_uri": "https://localhost:8080/"
        },
        "id": "r9pp6CynGtmL",
        "outputId": "9ab7e670-2ed3-4668-d377-fd32ce533559"
      },
      "execution_count": null,
      "outputs": [
        {
          "output_type": "stream",
          "name": "stdout",
          "text": [
            "5\n",
            "6\n",
            "20\n"
          ]
        }
      ]
    },
    {
      "cell_type": "code",
      "source": [
        "# classmethod\n",
        "class Counter:\n",
        "  count = 0\n",
        "  @classmethod\n",
        "  def increment(cls):\n",
        "    cls.count += 1\n",
        "\n",
        "Counter.increment()\n",
        "Counter.increment()\n",
        "Counter.increment()\n",
        "print(Counter.count)"
      ],
      "metadata": {
        "colab": {
          "base_uri": "https://localhost:8080/"
        },
        "id": "uge6CEBdGmxC",
        "outputId": "c80e72b0-244c-40ab-8877-e3fb9e261f28"
      },
      "execution_count": null,
      "outputs": [
        {
          "output_type": "stream",
          "name": "stdout",
          "text": [
            "3\n"
          ]
        }
      ]
    },
    {
      "cell_type": "markdown",
      "source": [
        "# Higher-Order Functions\n",
        "1. Map\n",
        "2. Filter\n",
        "3. Reduce"
      ],
      "metadata": {
        "id": "QipzzwjqAcuG"
      }
    },
    {
      "cell_type": "markdown",
      "metadata": {
        "id": "d1580393"
      },
      "source": [
        "**1**. **Map**\n",
        "\n",
        "Applies a `function` to each item in `iterable`.\n",
        "\n",
        "**Syntax**:\n",
        "```python\n",
        "map(function, iterable)\n",
        "```\n",
        "\n",
        "Returns an Iterator of results."
      ]
    },
    {
      "cell_type": "code",
      "source": [
        "a = [1,2,3,4,5]\n",
        "for i in map(lambda x: x**2,a):\n",
        "  print(i)"
      ],
      "metadata": {
        "colab": {
          "base_uri": "https://localhost:8080/"
        },
        "id": "-2QO2uPxAcXg",
        "outputId": "0ba43ec9-ee84-4773-d479-22135a99e361"
      },
      "execution_count": null,
      "outputs": [
        {
          "output_type": "stream",
          "name": "stdout",
          "text": [
            "1\n",
            "4\n",
            "9\n",
            "16\n",
            "25\n"
          ]
        }
      ]
    },
    {
      "cell_type": "code",
      "source": [
        "list(map(lambda x: x**2,a))"
      ],
      "metadata": {
        "colab": {
          "base_uri": "https://localhost:8080/"
        },
        "id": "iSXpSgMtBgwb",
        "outputId": "63a6a254-e940-40eb-d168-fccd62ef0b9c"
      },
      "execution_count": null,
      "outputs": [
        {
          "output_type": "execute_result",
          "data": {
            "text/plain": [
              "[1, 4, 9, 16, 25]"
            ]
          },
          "metadata": {},
          "execution_count": 69
        }
      ]
    },
    {
      "cell_type": "code",
      "execution_count": null,
      "metadata": {
        "id": "c5c3170b",
        "outputId": "af7ccb10-9151-42ba-9772-096b88854c4e",
        "colab": {
          "base_uri": "https://localhost:8080/"
        }
      },
      "outputs": [
        {
          "output_type": "execute_result",
          "data": {
            "text/plain": [
              "['Jacob Martin', 'Angela Stevens', 'Ricky Smart']"
            ]
          },
          "metadata": {},
          "execution_count": 70
        }
      ],
      "source": [
        "students = [\n",
        "    {\n",
        "        \"name\" : \"Jacob Martin\",\n",
        "        \"Father name\" : \"Ros Martin\",\n",
        "        \"Address\" : \"123 Hills Street\",\n",
        "    },{\n",
        "        \"name\" : \"Angela Stevens\",\n",
        "        \"Father name\" : \"Robert Stevens\",\n",
        "        \"Address\" : \"3 Upper Street London\",\n",
        "    },{\n",
        "        \"name\" : \"Ricky Smart\",\n",
        "        \"Father name\" : \"William Smart\",\n",
        "        \"Address\" : \"Unknown\",\n",
        "    }\n",
        "\n",
        "]\n",
        "list(map(lambda student : student[\"name\"], students))"
      ]
    },
    {
      "cell_type": "markdown",
      "metadata": {
        "id": "gngdIimsCcMJ"
      },
      "source": [
        "**2. Filter**\n",
        "\n",
        "Applies a `function` to `sequence`.\n",
        "\n",
        "**Syntax**:\n",
        "```python\n",
        "filter(function, sequence)\n",
        "```\n",
        "\n",
        "Returns elements where `function` is `True`."
      ]
    },
    {
      "cell_type": "code",
      "source": [
        "a"
      ],
      "metadata": {
        "colab": {
          "base_uri": "https://localhost:8080/"
        },
        "id": "UxzfjlDXChxt",
        "outputId": "5fa40461-1c14-4621-9c84-57f1b1082691"
      },
      "execution_count": null,
      "outputs": [
        {
          "output_type": "execute_result",
          "data": {
            "text/plain": [
              "[1, 2, 3, 4, 5]"
            ]
          },
          "metadata": {},
          "execution_count": 71
        }
      ]
    },
    {
      "cell_type": "code",
      "source": [
        "list(filter(lambda x: x < 4 ,a))"
      ],
      "metadata": {
        "colab": {
          "base_uri": "https://localhost:8080/"
        },
        "id": "y0TotE28Chuc",
        "outputId": "2a3e5b2e-5873-45dc-fc05-49111f46ae40"
      },
      "execution_count": null,
      "outputs": [
        {
          "output_type": "execute_result",
          "data": {
            "text/plain": [
              "[1, 2, 3]"
            ]
          },
          "metadata": {},
          "execution_count": 74
        }
      ]
    },
    {
      "cell_type": "code",
      "source": [
        "fruits = [\"Apple\", \"Orange\", \"Mango\", \"Guava\"]\n",
        "list(filter(lambda fruit: \"e\" in fruit, fruits))"
      ],
      "metadata": {
        "colab": {
          "base_uri": "https://localhost:8080/"
        },
        "id": "l_aMDLwRCx7K",
        "outputId": "ba488756-b335-4cc2-f77e-70008a4bbf4f"
      },
      "execution_count": null,
      "outputs": [
        {
          "output_type": "execute_result",
          "data": {
            "text/plain": [
              "['Apple', 'Orange']"
            ]
          },
          "metadata": {},
          "execution_count": 75
        }
      ]
    },
    {
      "cell_type": "markdown",
      "metadata": {
        "id": "6f5d2015"
      },
      "source": [
        "**3. Reduce**\n",
        "\n",
        "Reduces an iterable to a single value.\n",
        "\n",
        "**Syntax**:\n",
        "```python\n",
        "from functools import reduce\n",
        "reduce(function, iterable)\n",
        "```\n",
        "\n",
        "Operates on pairs of elements until a single value remains.\n",
        "\n",
        "Useful for Cumulative Operations (e.g., sum, product)."
      ]
    },
    {
      "cell_type": "code",
      "source": [
        "import functools"
      ],
      "metadata": {
        "id": "7rfIhBQWDD10"
      },
      "execution_count": null,
      "outputs": []
    },
    {
      "cell_type": "code",
      "source": [
        "a"
      ],
      "metadata": {
        "colab": {
          "base_uri": "https://localhost:8080/"
        },
        "id": "btZm2ju1DIcD",
        "outputId": "48faae13-c484-475d-bb5f-ef6ef081f8ca"
      },
      "execution_count": null,
      "outputs": [
        {
          "output_type": "execute_result",
          "data": {
            "text/plain": [
              "[1, 2, 3, 4, 5]"
            ]
          },
          "metadata": {},
          "execution_count": 77
        }
      ]
    },
    {
      "cell_type": "code",
      "source": [
        "functools.reduce(lambda x,y: x+y,a)"
      ],
      "metadata": {
        "colab": {
          "base_uri": "https://localhost:8080/"
        },
        "id": "N2QpQ5ziDJiH",
        "outputId": "19157a1a-9245-48a1-c2d6-7bdcba4024e8"
      },
      "execution_count": null,
      "outputs": [
        {
          "output_type": "execute_result",
          "data": {
            "text/plain": [
              "15"
            ]
          },
          "metadata": {},
          "execution_count": 78
        }
      ]
    },
    {
      "cell_type": "code",
      "source": [
        "b = [1,2,3,4,5,6,7,8,9,10]\n",
        "functools.reduce(lambda x,y: x+y,b)"
      ],
      "metadata": {
        "colab": {
          "base_uri": "https://localhost:8080/"
        },
        "id": "Btr__lyADSgH",
        "outputId": "e909d31e-05fb-48c8-d861-42c65c3f6fb7"
      },
      "execution_count": null,
      "outputs": [
        {
          "output_type": "execute_result",
          "data": {
            "text/plain": [
              "55"
            ]
          },
          "metadata": {},
          "execution_count": 79
        }
      ]
    },
    {
      "cell_type": "code",
      "source": [
        "functools.reduce(lambda x,y: x if x>y else y,b)"
      ],
      "metadata": {
        "colab": {
          "base_uri": "https://localhost:8080/"
        },
        "id": "u2PVGUcvDo_I",
        "outputId": "54277538-95c6-4cdb-9bfd-b9b68c86ff2d"
      },
      "execution_count": null,
      "outputs": [
        {
          "output_type": "execute_result",
          "data": {
            "text/plain": [
              "10"
            ]
          },
          "metadata": {},
          "execution_count": 80
        }
      ]
    },
    {
      "cell_type": "code",
      "source": [
        "functools.reduce(lambda x,y: x if x<y else y,b)"
      ],
      "metadata": {
        "colab": {
          "base_uri": "https://localhost:8080/"
        },
        "id": "EZ16eXDAD-EZ",
        "outputId": "063d7363-2e85-43e0-8a3e-8566d6a7c10b"
      },
      "execution_count": null,
      "outputs": [
        {
          "output_type": "execute_result",
          "data": {
            "text/plain": [
              "1"
            ]
          },
          "metadata": {},
          "execution_count": 81
        }
      ]
    },
    {
      "cell_type": "markdown",
      "metadata": {
        "id": "cdeb53f3"
      },
      "source": [
        "# Lambda Functions\n",
        "\n",
        "Anonymous functions.\n",
        "\n",
        "Single Expression Limit.\n",
        "\n",
        "**Syntax**: `lambda args: expr`\n",
        "\n",
        "**Example**: `lambda a, b: a + b`"
      ]
    },
    {
      "cell_type": "code",
      "source": [
        "square = lambda x: x**2\n",
        "square(9)"
      ],
      "metadata": {
        "colab": {
          "base_uri": "https://localhost:8080/"
        },
        "id": "vp_KllW6_Zh0",
        "outputId": "abe3bcf5-e87d-4126-d2fc-0700fdc10e98"
      },
      "execution_count": null,
      "outputs": [
        {
          "output_type": "execute_result",
          "data": {
            "text/plain": [
              "81"
            ]
          },
          "metadata": {},
          "execution_count": 61
        }
      ]
    },
    {
      "cell_type": "code",
      "source": [
        "a = lambda x,y :x+y\n",
        "a(2,3)"
      ],
      "metadata": {
        "colab": {
          "base_uri": "https://localhost:8080/"
        },
        "id": "bkfs14Zv_xfq",
        "outputId": "29f16334-06ef-4c48-8f6d-dc1e50d7d3bc"
      },
      "execution_count": null,
      "outputs": [
        {
          "output_type": "execute_result",
          "data": {
            "text/plain": [
              "5"
            ]
          },
          "metadata": {},
          "execution_count": 65
        }
      ]
    },
    {
      "cell_type": "code",
      "source": [
        "print(type(a))"
      ],
      "metadata": {
        "colab": {
          "base_uri": "https://localhost:8080/"
        },
        "id": "ZFnCS_DNALPO",
        "outputId": "ca924e58-33a2-49a7-cb33-90646e92cb01"
      },
      "execution_count": null,
      "outputs": [
        {
          "output_type": "stream",
          "name": "stdout",
          "text": [
            "<class 'function'>\n"
          ]
        }
      ]
    }
  ]
}