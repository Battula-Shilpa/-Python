{
  "nbformat": 4,
  "nbformat_minor": 0,
  "metadata": {
    "colab": {
      "provenance": [],
      "mount_file_id": "1rfDfdaXgx2syWLmVYP9rNFoeYSTuFUC0",
      "authorship_tag": "ABX9TyO2+nqc6mEK3uGdzz9A3njO",
      "include_colab_link": true
    },
    "kernelspec": {
      "name": "python3",
      "display_name": "Python 3"
    },
    "language_info": {
      "name": "python"
    }
  },
  "cells": [
    {
      "cell_type": "markdown",
      "metadata": {
        "id": "view-in-github",
        "colab_type": "text"
      },
      "source": [
        "<a href=\"https://colab.research.google.com/github/Battula-Shilpa/-Python/blob/main/4_OOPS.ipynb\" target=\"_parent\"><img src=\"https://colab.research.google.com/assets/colab-badge.svg\" alt=\"Open In Colab\"/></a>"
      ]
    },
    {
      "cell_type": "markdown",
      "source": [
        "Object-Oriented Programming (OOP) in Python involves four main concepts:\n",
        "\n",
        "- **Encapsulation** – Bundling data and methods together.\n",
        "- **Abstraction** – Hiding unnecessary details.\n",
        "- **Inheritance** – Reusing code by deriving classes.\n",
        "- **Polymorphism** – Using a single interface for different data types."
      ],
      "metadata": {
        "id": "dx24NSR61K9O"
      }
    },
    {
      "cell_type": "markdown",
      "source": [
        "# **Class & Object**\n",
        "- **Class:** A blueprint for creating objects. It defines properties (attributes) and behaviors (methods).\n",
        "- **Object:** An instance of a class that has real-world characteristics."
      ],
      "metadata": {
        "id": "O324nKDqTOC7"
      }
    },
    {
      "cell_type": "code",
      "execution_count": null,
      "metadata": {
        "id": "0z_OE22URRLG",
        "colab": {
          "base_uri": "https://localhost:8080/"
        },
        "outputId": "b88355df-4ee2-4db1-8ee0-e6d0aeec457b"
      },
      "outputs": [
        {
          "output_type": "stream",
          "name": "stdout",
          "text": [
            "Engine is started\n"
          ]
        }
      ],
      "source": [
        "#very basic class reaction:\n",
        "class Engine:\n",
        "  def start_engine(self):\n",
        "    print(\"Engine is started\")\n",
        "\n",
        "eng = Engine()\n",
        "eng.start_engine()"
      ]
    },
    {
      "cell_type": "code",
      "source": [
        "#static method\n",
        "class ClassName:\n",
        "  interest = 0.001\n",
        "\n",
        "  def function_name(self):\n",
        "    print(\"My first function\")\n",
        "  def cal_function(principle): # Now it's a static method\n",
        "    return principle*ClassName.interest # Accessing class variable directly\n",
        "\n",
        "refvar = ClassName()\n",
        "refvar.function_name()\n",
        "ClassName.cal_function(10000)"
      ],
      "metadata": {
        "colab": {
          "base_uri": "https://localhost:8080/"
        },
        "id": "5MVIoAIAUkEH",
        "outputId": "813b4396-8f90-48e2-a1d9-cfe5edb6a64e"
      },
      "execution_count": null,
      "outputs": [
        {
          "output_type": "stream",
          "name": "stdout",
          "text": [
            "My first function\n"
          ]
        },
        {
          "output_type": "execute_result",
          "data": {
            "text/plain": [
              "10.0"
            ]
          },
          "metadata": {},
          "execution_count": 6
        }
      ]
    },
    {
      "cell_type": "code",
      "source": [
        "#Instance method\n",
        "class ClassName:\n",
        "    interest = 0.001\n",
        "\n",
        "    def function_name(self):\n",
        "        print(\"My first function\")\n",
        "\n",
        "    def cal_function(self, principle):  # Instance method : Now it correctly takes 'self'\n",
        "        return principle * self.interest  # Accessing class attribute correctly\n",
        "\n",
        "refvar = ClassName()\n",
        "refvar.function_name()\n",
        "print(refvar.cal_function(10000))\n"
      ],
      "metadata": {
        "colab": {
          "base_uri": "https://localhost:8080/"
        },
        "id": "SGrAmVqaXJaV",
        "outputId": "6e48aaf7-0ab1-419a-d6ea-7e7b22f27818"
      },
      "execution_count": null,
      "outputs": [
        {
          "output_type": "stream",
          "name": "stdout",
          "text": [
            "My first function\n",
            "10.0\n"
          ]
        }
      ]
    },
    {
      "cell_type": "code",
      "source": [
        "# Example\n",
        "class Car:\n",
        "  def __init__(self,brand,model):\n",
        "    self.brand = brand\n",
        "    self.model = model\n",
        "\n",
        "  def display_info(self):\n",
        "    print(f\"Car is {self.brand}, {self.model}\")\n",
        "\n",
        "car1 = Car(\"Toyota\",\"Camry\")\n",
        "car2 = Car(\"Honda\",\"Civic\")\n",
        "car3 = Car(\"Ford\",\"Mustang\")\n",
        "car1.display_info()\n",
        "car2.display_info()\n",
        "car3.display_info()"
      ],
      "metadata": {
        "colab": {
          "base_uri": "https://localhost:8080/"
        },
        "id": "LSK1Uoc5XoNd",
        "outputId": "4527779e-aed6-4193-9f35-7fbb9a9827f6"
      },
      "execution_count": null,
      "outputs": [
        {
          "output_type": "stream",
          "name": "stdout",
          "text": [
            "Car is Toyota, Camry\n",
            "Car is Honda, Civic\n",
            "Car is Ford, Mustang\n"
          ]
        }
      ]
    },
    {
      "cell_type": "code",
      "source": [
        "class BankingApp:\n",
        "  def __init__(self,myprinciple,myinterest_rate):\n",
        "    self.principle = myprinciple\n",
        "    self.interest_rate = myinterest_rate\n",
        "\n",
        "  def calculate_interest(self):\n",
        "    return self.principle * self.interest_rate\n",
        "\n",
        "  def give_loan(self):\n",
        "    print(\"Gave the loan\")\n",
        "\n",
        "hdfc_bank = BankingApp(10000,0.05)\n",
        "print(hdfc_bank.calculate_interest())\n",
        "hdfc_bank.give_loan()\n"
      ],
      "metadata": {
        "colab": {
          "base_uri": "https://localhost:8080/"
        },
        "id": "KHwhCOFhZllG",
        "outputId": "a3eb5ddd-8bb7-4533-ef24-c71009654e3d"
      },
      "execution_count": null,
      "outputs": [
        {
          "output_type": "stream",
          "name": "stdout",
          "text": [
            "500.0\n",
            "Gave the loan\n"
          ]
        }
      ]
    },
    {
      "cell_type": "code",
      "source": [
        "class Dog:\n",
        "  #class attribute(shared for all instance)\n",
        "  species = \"Canis familiaris\"\n",
        "\n",
        "  #constructor\n",
        "  def __init__(self,name,age):\n",
        "    self.name = name\n",
        "    self.age = age\n",
        "\n",
        "  #class method\n",
        "  @classmethod\n",
        "  def species_info(cls):\n",
        "    return f\"All dogs are of species {cls.species}\"\n",
        "\n",
        "  #Instance method\n",
        "  def foodhabit(self,eatingspeed):\n",
        "    print(f\"Eating {eatingspeed} is a food habit of, {self.name}, and age is {self.age}\")\n",
        "dog = Dog(\"Milow\",\"2\")\n",
        "dog.foodhabit(\"fast\")\n",
        "\n",
        "print(Dog.species_info())"
      ],
      "metadata": {
        "colab": {
          "base_uri": "https://localhost:8080/"
        },
        "id": "CWFWMdJujrWM",
        "outputId": "1c209ea3-2d98-45f4-c7e4-720570fbf809"
      },
      "execution_count": null,
      "outputs": [
        {
          "output_type": "stream",
          "name": "stdout",
          "text": [
            "Eating fast is a food habit of, Milow, and age is 2\n",
            "All dogs are of species Canis familiaris\n"
          ]
        }
      ]
    },
    {
      "cell_type": "markdown",
      "source": [
        "# Encapsulation (Data Hiding & Bundling)"
      ],
      "metadata": {
        "id": "mkaE0BuB1nci"
      }
    },
    {
      "cell_type": "markdown",
      "source": [
        "- Encapsulation is a fundamental concept in Object-Oriented Programming (OOP) that refers to hiding the internal details of an object and restricting direct access to some of its components.\n",
        "  - Python implements encapsulation using public, protected, and private attributes.\n",
        "\n"
      ],
      "metadata": {
        "id": "pLCncR39DDEs"
      }
    },
    {
      "cell_type": "code",
      "source": [
        "# Basic Encapsulation (Public atrributes -- No encapsulation)\n",
        "class Car:\n",
        "  def __init__(self,brand,speed):\n",
        "    self.brand = brand #Public atrributes\n",
        "    self.speed = speed #Public atrributes\n",
        "\n",
        "\n",
        "car = Car(\"Toyota\",120)\n",
        "print(car.brand)\n",
        "car.speed = 130 #modify speed\n",
        "print(car.speed)"
      ],
      "metadata": {
        "colab": {
          "base_uri": "https://localhost:8080/"
        },
        "id": "VDzBO8RFDhD9",
        "outputId": "7572d745-a42d-4b71-97bb-2c1edebe0d4d"
      },
      "execution_count": null,
      "outputs": [
        {
          "output_type": "stream",
          "name": "stdout",
          "text": [
            "Toyota\n",
            "130\n"
          ]
        }
      ]
    },
    {
      "cell_type": "code",
      "source": [
        "#Using Protected Attributes (_single_underscore)\n",
        "class Car:\n",
        "  def __init__(self,brand,speed):\n",
        "    self._brand = brand #protected attribute\n",
        "    self._speed = speed #protected attribute\n",
        "\n",
        "  def show_details(self):\n",
        "    print(f\"car : {self._brand}, Speed: {self._speed} km/h\")\n",
        "\n",
        "car = Car(\"Toyota\",120)\n",
        "car.speed =  140 #Not modifying\n",
        "print(car.speed)\n",
        "car.show_details()"
      ],
      "metadata": {
        "colab": {
          "base_uri": "https://localhost:8080/"
        },
        "id": "uCf4I4lPE3Wy",
        "outputId": "5d0af5be-2596-4629-c97e-6b583ec5a810"
      },
      "execution_count": null,
      "outputs": [
        {
          "output_type": "stream",
          "name": "stdout",
          "text": [
            "140\n",
            "car : Toyota, Speed: 120 km/h\n"
          ]
        }
      ]
    },
    {
      "cell_type": "code",
      "source": [
        "#Using Private Attributes (__double_underscore)\n"
      ],
      "metadata": {
        "id": "Lu0u-PDuGOot"
      },
      "execution_count": null,
      "outputs": []
    },
    {
      "cell_type": "code",
      "source": [
        "#Using Private Attributes (__double_underscore)\n",
        "# Example on Bank Account\n",
        "class BankAccount:\n",
        "  def __init__(self,account_holder,balance):\n",
        "    self.__account_holder = account_holder # Private attribute\n",
        "    self.__balance = balance # Private attribute\n",
        "\n",
        "  def deposit (self,amount):\n",
        "    if amount > 0:\n",
        "      self.__balance += amount\n",
        "      print(f\"Deposited {amount}. New balance: {self.__balance}\")\n",
        "\n",
        "  def Withdraw (self,amount):\n",
        "    if amount <= self.__balance:\n",
        "      self.__balance -= amount\n",
        "      print(f\"Withdraw {amount}. Remaining balance: {self.__balance}\")\n",
        "\n",
        "    else:\n",
        "      print(\"Insufficient balance\")\n",
        "\n",
        "  def get_balance(self):\n",
        "    return self.__balance\n",
        "\n",
        "amount = BankAccount(\"vagu\",200000)\n",
        "amount.deposit(2000)\n",
        "amount.Withdraw(1000)\n",
        "print(amount.get_balance())"
      ],
      "metadata": {
        "colab": {
          "base_uri": "https://localhost:8080/"
        },
        "id": "ddjMMhd75-LT",
        "outputId": "9c1ec098-dc41-4eb8-a3c3-25980ea6aec0"
      },
      "execution_count": null,
      "outputs": [
        {
          "output_type": "stream",
          "name": "stdout",
          "text": [
            "Deposited 2000. New balance: 202000\n",
            "Withdraw 1000. Remaining balance: 201000\n",
            "201000\n"
          ]
        }
      ]
    },
    {
      "cell_type": "markdown",
      "source": [
        "- **Accessor Methods (Getters)**: Used to retrieve the value of private/protected attributes.\n",
        "  -  get_age() or @property\n",
        "\n",
        "- **Mutator Methods (Setters) :** Used to modify private/protected attributes.\n",
        "  -  set_age(value) or @property.setter"
      ],
      "metadata": {
        "id": "58yA1_4IL1aQ"
      }
    },
    {
      "cell_type": "code",
      "source": [
        "#Using Getter & Setter Methods\n",
        "class Employee:\n",
        "  def __init__(self,name,salary):\n",
        "    self.__name = name # Private attribute\n",
        "    self.__salary = salary # Private attribute\n",
        "\n",
        "  def get_salary(self):\n",
        "    return self.__salary\n",
        "\n",
        "  def set_salary(self,new_salary):\n",
        "    if new_salary > 0:\n",
        "      self.__salary = new_salary\n",
        "    else:\n",
        "      print(\"Salary must be postive number\")\n",
        "\n",
        "emp = Employee(\"chinni\",50000)\n",
        "emp.get_salary()\n",
        "emp.set_salary(60000)\n",
        "emp.get_salary()"
      ],
      "metadata": {
        "colab": {
          "base_uri": "https://localhost:8080/"
        },
        "id": "g1pHSZ-DM1iS",
        "outputId": "d62436d5-44b7-4bfa-e479-6bb3c82d3307"
      },
      "execution_count": null,
      "outputs": [
        {
          "output_type": "execute_result",
          "data": {
            "text/plain": [
              "60000"
            ]
          },
          "metadata": {},
          "execution_count": 47
        }
      ]
    },
    {
      "cell_type": "markdown",
      "source": [
        "- Advanced: Encapsulation with Class Methods"
      ],
      "metadata": {
        "id": "tMTib_npI2Wn"
      }
    },
    {
      "cell_type": "code",
      "source": [
        "class BankAccount:\n",
        "  def __init__(self,account_holder,balance):\n",
        "    self.__account_holder = account_holder\n",
        "    self.__balance = balance\n",
        "\n",
        "  @property  #The @property decorator makes balance a getter method.\n",
        "  def balance(self):\n",
        "    return self.__balance\n",
        "\n",
        "  @classmethod\n",
        "  def create_holder(cls,holder):\n",
        "    return cls(holder,0) # Creating an account with zero balance\n",
        "\n",
        "  def deposit(self,amount):  # Public method\n",
        "    if amount > 0:\n",
        "      self.__balance += amount\n",
        "      print(f\"Deposited {amount}. New balance: {self.__balance}\")\n",
        "    else:\n",
        "      print(\"Invalid deposit amount\")\n",
        "\n",
        "  def withdraw(self,amount): # Public method with validation\n",
        "    if amount <= self.__balance:\n",
        "      self.__balance -= amount\n",
        "      print(f\"Withdraw {amount}. Remaining balance: {self.__balance}\")\n",
        "    else:\n",
        "      print(\"Insufficient balance\")\n",
        "\n",
        "account = BankAccount.create_holder(\"Chinni\")\n",
        "account.deposit(1000)\n",
        "account.withdraw(500)\n",
        "print(account.balance)"
      ],
      "metadata": {
        "colab": {
          "base_uri": "https://localhost:8080/"
        },
        "id": "qs9nlTGiI6S9",
        "outputId": "273ecc72-1f33-48a0-a17c-dd9dfd94c173"
      },
      "execution_count": null,
      "outputs": [
        {
          "output_type": "stream",
          "name": "stdout",
          "text": [
            "Deposited 1000. New balance: 1000\n",
            "Withdraw 500. Remaining balance: 500\n",
            "500\n"
          ]
        }
      ]
    },
    {
      "cell_type": "markdown",
      "source": [
        "# Inheritance"
      ],
      "metadata": {
        "id": "ZNaZmSP5BpNG"
      }
    },
    {
      "cell_type": "markdown",
      "source": [
        "- **Single Inheritance** allows a child class to inherit from one parent class.\n"
      ],
      "metadata": {
        "id": "aIgPclUfIRtS"
      }
    },
    {
      "cell_type": "code",
      "source": [
        "class Parent:\n",
        "  def func1(self):\n",
        "    print(\"This is the parent class\")\n",
        "\n",
        "class Child(Parent):\n",
        "    def func2(self):\n",
        "      print(\"This is child class\")\n",
        "\n",
        "obj = Child()\n",
        "obj.func1()\n",
        "obj.func2()"
      ],
      "metadata": {
        "colab": {
          "base_uri": "https://localhost:8080/"
        },
        "id": "pQDSxP2YBhzD",
        "outputId": "8e7b9dfb-f0df-42a3-8083-e78fd1bd7fa0"
      },
      "execution_count": null,
      "outputs": [
        {
          "output_type": "stream",
          "name": "stdout",
          "text": [
            "This is the parent class\n",
            "This is child class\n"
          ]
        }
      ]
    },
    {
      "cell_type": "markdown",
      "source": [
        "- **Multiple Inheritance** allows a class to inherit from multiple parents."
      ],
      "metadata": {
        "id": "2YIoJr2vM3Ns"
      }
    },
    {
      "cell_type": "code",
      "source": [
        "class Father:\n",
        "  def func1(self):\n",
        "    print(\"this is father class\")\n",
        "\n",
        "class Mother:\n",
        "  def func2(self):\n",
        "    print(\"this is mother class\")\n",
        "\n",
        "class Child(Father,Mother):\n",
        "  def func3(self):\n",
        "    print(\"Child has traits from both paents\")\n",
        "\n",
        "obj = Child()\n",
        "obj.func1()\n",
        "obj.func2()\n",
        "obj.func3()"
      ],
      "metadata": {
        "id": "NDjHv5iuM6Kw",
        "colab": {
          "base_uri": "https://localhost:8080/"
        },
        "outputId": "5a00b25f-de36-4a1e-a757-9091fea3e900"
      },
      "execution_count": null,
      "outputs": [
        {
          "output_type": "stream",
          "name": "stdout",
          "text": [
            "this is father class\n",
            "this is mother class\n",
            "Child has traits from both paents\n"
          ]
        }
      ]
    },
    {
      "cell_type": "markdown",
      "source": [
        "- **Multilevel Inheritance** helps in stepwise inheritance across multiple generations."
      ],
      "metadata": {
        "id": "b87cZKlOFRFc"
      }
    },
    {
      "cell_type": "code",
      "source": [
        "class Grand_parent:\n",
        "  def func1(self):\n",
        "    print(\"This is Grand parent class\")\n",
        "\n",
        "class Parent(Grand_parent):\n",
        "  def func2(self):\n",
        "    print(\"This is parent class\")\n",
        "\n",
        "class Child(Parent):\n",
        "  def func3(self):\n",
        "    print(\"This is child class\")\n",
        "\n",
        "obj = Child()\n",
        "obj.func1()\n",
        "obj.func2()\n",
        "obj.func3()"
      ],
      "metadata": {
        "colab": {
          "base_uri": "https://localhost:8080/"
        },
        "id": "398U-TCnFUNc",
        "outputId": "1141333e-34bf-4a41-8c1b-3c37d87b63a2"
      },
      "execution_count": null,
      "outputs": [
        {
          "output_type": "stream",
          "name": "stdout",
          "text": [
            "This is Grand parent class\n",
            "This is parent class\n",
            "This is child class\n"
          ]
        }
      ]
    },
    {
      "cell_type": "markdown",
      "source": [
        "- **Hierarchical Inheritance** enables multiple child classes to share the same parent class."
      ],
      "metadata": {
        "id": "trUKG6l-Hum9"
      }
    },
    {
      "cell_type": "code",
      "source": [
        "class Parent:\n",
        "  def common_feature(self):\n",
        "    print(\"This feature is inherited by all children\")\n",
        "\n",
        "class Child1(Parent):\n",
        "  def feature1(self):\n",
        "    print(\"Feature of child1\")\n",
        "\n",
        "class Child2(Parent):\n",
        "  def feature2(self):\n",
        "    print(\"Feature of child2\")\n",
        "\n",
        "obj1 = Child1()\n",
        "obj2 = Child2()\n",
        "\n",
        "obj1.common_feature()\n",
        "obj1.feature1()\n",
        "\n",
        "obj2.common_feature()\n",
        "obj2.feature2()"
      ],
      "metadata": {
        "colab": {
          "base_uri": "https://localhost:8080/"
        },
        "id": "1R-IbuhrH3Fr",
        "outputId": "a23d715a-1ec8-4def-8b59-b8258de864ee"
      },
      "execution_count": null,
      "outputs": [
        {
          "output_type": "stream",
          "name": "stdout",
          "text": [
            "This feature is inherited by all children\n",
            "Feature of child1\n",
            "This feature is inherited by all children\n",
            "Feature of child2\n"
          ]
        }
      ]
    },
    {
      "cell_type": "markdown",
      "source": [
        "- **Hybrid Inheritance** combines different inheritance types in complex scenarios.\n",
        "\n"
      ],
      "metadata": {
        "id": "hBLSK8QuKtVZ"
      }
    },
    {
      "cell_type": "code",
      "source": [
        "class A:\n",
        "  def method_A(self):\n",
        "    print(\"Class A\")\n",
        "\n",
        "class B:\n",
        "  def method_B(self):\n",
        "    print(\"Class B\")\n",
        "\n",
        "class C(A):\n",
        "  def method_C(self):\n",
        "    print(\"Class C\")\n",
        "\n",
        "class D(B,C):\n",
        "  def method_D(self):\n",
        "    print(\"Class D\")\n",
        "\n",
        "obj = D()\n",
        "obj.method_A()\n",
        "obj.method_B()\n",
        "obj.method_C()\n",
        "obj.method_D()"
      ],
      "metadata": {
        "colab": {
          "base_uri": "https://localhost:8080/"
        },
        "id": "zSVuY2-sKw27",
        "outputId": "ba786d3b-69d8-4e29-99ce-b820cf6cc69f"
      },
      "execution_count": null,
      "outputs": [
        {
          "output_type": "stream",
          "name": "stdout",
          "text": [
            "Class A\n",
            "Class B\n",
            "Class C\n",
            "Class D\n"
          ]
        }
      ]
    },
    {
      "cell_type": "markdown",
      "source": [
        "- **Example**"
      ],
      "metadata": {
        "id": "f0xA3aPdL6Xp"
      }
    },
    {
      "cell_type": "code",
      "source": [
        "#Super\n",
        "class Animal:\n",
        "  def __init__(self,name, age):\n",
        "    self.name = name\n",
        "    self.age = age\n",
        "\n",
        "  def speak(self):\n",
        "    return \"some sound\"\n",
        "\n",
        "class Dog(Animal):\n",
        "  def speak(self):\n",
        "    return \"Bark\"\n",
        "\n",
        "class Cat(Animal):\n",
        "  def speak(self):\n",
        "    return \"Meow\"\n",
        "\n",
        "dog = Dog(\"Milow\",3)\n",
        "cat = Cat(\"Kitty\",2)\n",
        "\n",
        "print(f\"{dog.name} says {dog.speak()} and age is {dog.age}\")\n",
        "print(f\"{cat.name} says {cat.speak()} and age is {cat.age}\")"
      ],
      "metadata": {
        "colab": {
          "base_uri": "https://localhost:8080/"
        },
        "id": "Mqf03GtBML15",
        "outputId": "4a0ec9f2-a711-4407-a542-7062c8b481d5"
      },
      "execution_count": null,
      "outputs": [
        {
          "output_type": "stream",
          "name": "stdout",
          "text": [
            "Milow says Bark and age is 3\n",
            "Kitty says Meow and age is 2\n"
          ]
        }
      ]
    },
    {
      "cell_type": "code",
      "source": [
        "# Example 1\n",
        "class Person:\n",
        "  def __init__(self,name,age):\n",
        "    self.name = name\n",
        "    self.age = age\n",
        "\n",
        "  def __str__(self):\n",
        "    return f\"{self.name} is {self.age} years old\"\n",
        "\n",
        "  def __repr__(self):\n",
        "    return f\"Person('{self.name}',{self.age})\"\n",
        "\n",
        "p = Person(\"Chinni\",21)\n",
        "\n",
        "print(str(p))\n",
        "print(repr(p))"
      ],
      "metadata": {
        "colab": {
          "base_uri": "https://localhost:8080/"
        },
        "id": "9fT1o3w4Pkkt",
        "outputId": "ab877cb2-cce6-4259-a5b5-b7398a015866"
      },
      "execution_count": null,
      "outputs": [
        {
          "output_type": "stream",
          "name": "stdout",
          "text": [
            "Chinni is 21 years old\n",
            "Person('Chinni',21)\n"
          ]
        }
      ]
    },
    {
      "cell_type": "code",
      "source": [
        "# Example 2\n",
        "class Person:\n",
        "  def __init__(self,name,age):\n",
        "    self.name = name\n",
        "    self.age = age\n",
        "\n",
        "  def display(self):\n",
        "    print(f\"Name: {self.name}, age: {self.age}\")\n",
        "\n",
        "p = Person(\"Chinni\",21)\n",
        "p.display()"
      ],
      "metadata": {
        "colab": {
          "base_uri": "https://localhost:8080/"
        },
        "id": "BcbauwGQRQrh",
        "outputId": "d9cf35fe-64ce-49d0-fc67-c41a5714d127"
      },
      "execution_count": null,
      "outputs": [
        {
          "output_type": "stream",
          "name": "stdout",
          "text": [
            "Name: Chinni, age: 21\n"
          ]
        }
      ]
    },
    {
      "cell_type": "code",
      "source": [
        "# Example 3 ----protected attributes  '_'\n",
        "class Parent:\n",
        "  def __init__(self):\n",
        "    self._protected_attr = \"Iam a protected attribute\"\n",
        "\n",
        "  def show_protected(self):\n",
        "    print(f\"Parent class :{self._protected_attr}\")\n",
        "\n",
        "class Child(Parent):\n",
        "    def __init__(self):\n",
        "        super().__init__()  # Call Parent class constructor\n",
        "        # self._protected_attr = \"name\"  # Uncommenting this would override the parent's value\n",
        "        print(f\"Child class: {self._protected_attr}\")  # Accessing the protected attribute of Parent\n",
        "\n",
        "    def change_protected(self,new_value):\n",
        "      self._protected_attr = new_value  # Modifying the protected attribute\n",
        "\n",
        "\n",
        "child_instance = Child()\n",
        "child_instance.show_protected()\n",
        "child_instance.change_protected(\"Iam a new protected value\")\n",
        "child_instance.show_protected()\n",
        "child_instance._protected_attr"
      ],
      "metadata": {
        "id": "qTcJnSw9R8b1",
        "colab": {
          "base_uri": "https://localhost:8080/",
          "height": 90
        },
        "outputId": "578d4531-c88b-4cb6-ff04-e1174154b249"
      },
      "execution_count": null,
      "outputs": [
        {
          "output_type": "stream",
          "name": "stdout",
          "text": [
            "Child class: Iam a protected attribute\n",
            "Parent class :Iam a protected attribute\n",
            "Parent class :Iam a new protected value\n"
          ]
        },
        {
          "output_type": "execute_result",
          "data": {
            "text/plain": [
              "'Iam a new protected value'"
            ],
            "application/vnd.google.colaboratory.intrinsic+json": {
              "type": "string"
            }
          },
          "metadata": {},
          "execution_count": 5
        }
      ]
    },
    {
      "cell_type": "code",
      "source": [
        "# Example 3-a\n",
        "class Person:\n",
        "  def __init__(self,name,age):\n",
        "    self._name = name\n",
        "    self._age = age\n",
        "\n",
        "  def display(self):\n",
        "    print(f\"Name : {self._name} , age : {self._age}\")\n",
        "\n",
        "class Student(Person):\n",
        "  def __init__(self,name,age,student_id):\n",
        "    super().__init__(name,age)\n",
        "    self._student_id = student_id\n",
        "\n",
        "  def display_student_info(self):\n",
        "    print(f\"Student ID: {self._student_id}, Name: {self._name}, Age: {self._age}\")\n",
        "\n",
        "student = Student(\"Shilpa\", 21, \"1244\")\n",
        "student.display()\n",
        "student.display_student_info()"
      ],
      "metadata": {
        "colab": {
          "base_uri": "https://localhost:8080/"
        },
        "id": "qz6VX4uF4b8C",
        "outputId": "0c39ee1a-6257-426b-8b68-187bc5819f8c"
      },
      "execution_count": null,
      "outputs": [
        {
          "output_type": "stream",
          "name": "stdout",
          "text": [
            "Name : Shilpa , age : 21\n",
            "Student ID: 1244, Name: Shilpa, Age: 21\n"
          ]
        }
      ]
    },
    {
      "cell_type": "code",
      "source": [
        "# Example 3-b\n",
        "'''If you want to return a formatted string when calling the object, you can override the __str__ method:'''\n",
        "class Animal:\n",
        "  def __init__(self,name):\n",
        "    self.name = name\n",
        "    return f\"Animal {self.name} is there\"\n",
        "\n",
        "class Dog(Animal):\n",
        "  def __init__(self,name,sound):\n",
        "    super().__init__(name)\n",
        "    self.sound = sound\n",
        "\n",
        "  def __str__(self):\n",
        "    return f\"Dog {self.name} make a {self.sound} sound\"\n",
        "\n",
        "dog = Dog(\"Milow\", \"Bark\")\n",
        "print(dog)"
      ],
      "metadata": {
        "colab": {
          "base_uri": "https://localhost:8080/"
        },
        "id": "X6elSfI28jLr",
        "outputId": "124a552f-e655-4ea4-d2e9-682e5caf906d"
      },
      "execution_count": null,
      "outputs": [
        {
          "output_type": "stream",
          "name": "stdout",
          "text": [
            "Dog Milow make a Bark sound\n"
          ]
        }
      ]
    },
    {
      "cell_type": "code",
      "source": [
        "# Example 4\n",
        "class PrivateClass:\n",
        "  def __init__(self,name):\n",
        "    self.name = name\n",
        "    print(self.name)\n",
        "\n",
        "  def sayhello(self):\n",
        "    print(f\"Hello {self.name}\")\n",
        "\n",
        "pc = PrivateClass(\"Chinni\")\n",
        "pc.sayhello()\n"
      ],
      "metadata": {
        "colab": {
          "base_uri": "https://localhost:8080/"
        },
        "id": "ey8riG-v_3Bg",
        "outputId": "db09e58d-2a2b-4d30-9eb4-3fe50e6d1979"
      },
      "execution_count": null,
      "outputs": [
        {
          "output_type": "stream",
          "name": "stdout",
          "text": [
            "Chinni\n",
            "Hello Chinni\n"
          ]
        }
      ]
    },
    {
      "cell_type": "markdown",
      "source": [
        "# **Polymorphism**"
      ],
      "metadata": {
        "id": "u3Rdgs5aLLy4"
      }
    },
    {
      "cell_type": "markdown",
      "source": [
        "- It allows the same function or method to behave differently based on the object calling it.\n",
        "-  In Python, polymorphism is mainly implemented through\n",
        " -  **method overriding :**  Subclass provides its own implementation of a method from the parent class.\n",
        " -  **method overloading :** Python does not support it directly, but we can achieve similar behavior using default arguments or *args\n",
        "\n",
        "(although Python does not support overloading in the traditional sense).\n",
        "\n"
      ],
      "metadata": {
        "id": "alcpR7h-NU-q"
      }
    },
    {
      "cell_type": "code",
      "source": [
        "# Method Overriding\n",
        "class Animal:\n",
        "    def speak(self):\n",
        "        print(\"Animal speaks\")\n",
        "\n",
        "class Dog(Animal):\n",
        "    def speak(self):  # Overriding the speak method\n",
        "        print(\"Dog barks\")\n",
        "\n",
        "class Cat(Animal):\n",
        "    def speak(self):  # Overriding the speak method\n",
        "        print(\"Cat meows\")\n",
        "\n",
        "# Polymorphic behavior\n",
        "def animal_sound(Animal):\n",
        "    Animal.speak()  # Calls the appropriate method based on the object type\n",
        "\n",
        "dog = Dog()\n",
        "cat = Cat()\n",
        "animal_sound(dog)\n",
        "animal_sound(cat)"
      ],
      "metadata": {
        "colab": {
          "base_uri": "https://localhost:8080/"
        },
        "id": "-KPl5gdXLoIy",
        "outputId": "2a3ae3b2-f237-44e2-f937-986ed721db13"
      },
      "execution_count": null,
      "outputs": [
        {
          "output_type": "stream",
          "name": "stdout",
          "text": [
            "Dog barks\n",
            "Cat meows\n"
          ]
        }
      ]
    },
    {
      "cell_type": "code",
      "source": [
        "# Method Overloading\n",
        "class Dog:\n",
        "  def __init__(self,*args):\n",
        "    if len(args) == 2:\n",
        "      self.name = args[0]\n",
        "      self.age = args[1]\n",
        "    elif len(args) == 1:\n",
        "      self.name = args[0]\n",
        "      self.age = 0\n",
        "    else:\n",
        "      self.name = \"Unknown\"\n",
        "      self.age = 0\n",
        "\n",
        "  def info(self):\n",
        "        print(f\"{self.name} is {self.age} years old.\")\n",
        "\n",
        "# Creating instances with different parameters\n",
        "dog1 = Dog(\"Buddy\", 5)\n",
        "dog2 = Dog(\"Bella\")\n",
        "dog3 = Dog()  # Using default values\n",
        "\n",
        "dog1.info()\n",
        "dog2.info()\n",
        "dog3.info()"
      ],
      "metadata": {
        "colab": {
          "base_uri": "https://localhost:8080/"
        },
        "id": "Y-c3mYigPdyA",
        "outputId": "12ee1f8b-724a-4b44-aa3b-40db4751c08e"
      },
      "execution_count": null,
      "outputs": [
        {
          "output_type": "stream",
          "name": "stdout",
          "text": [
            "Buddy is 5 years old.\n",
            "Bella is 0 years old.\n",
            "Unknown is 0 years old.\n"
          ]
        }
      ]
    },
    {
      "cell_type": "markdown",
      "source": [
        "# Abstraction"
      ],
      "metadata": {
        "id": "mXH02733TdU1"
      }
    },
    {
      "cell_type": "markdown",
      "source": [
        "- Abstraction is the process of hiding implementation details and only exposing essential functionality to the user."
      ],
      "metadata": {
        "id": "3OAszpuoTY95"
      }
    },
    {
      "cell_type": "code",
      "source": [
        "#Basic Example (Without Abstraction)\n",
        "class Car:\n",
        "    def start_engine(self):\n",
        "        print(\"Engine started\")\n",
        "\n",
        "    def stop_engine(self):\n",
        "        print(\"Engine stopped\")\n",
        "\n",
        "car = Car()\n",
        "car.start_engine()"
      ],
      "metadata": {
        "colab": {
          "base_uri": "https://localhost:8080/"
        },
        "id": "RnzCfJIsTYfd",
        "outputId": "28341461-3beb-4d88-937b-924019135c6e"
      },
      "execution_count": null,
      "outputs": [
        {
          "output_type": "stream",
          "name": "stdout",
          "text": [
            "Engine started\n"
          ]
        }
      ]
    },
    {
      "cell_type": "code",
      "source": [
        "#Abstraction Using Abstract Classes (ABC module)\n",
        "from abc import ABC, abstractmethod\n",
        "\n",
        "class Vechicle(ABC):\n",
        "  @abstractmethod\n",
        "  def start_engine(self):\n",
        "    pass\n",
        "\n",
        "  @abstractmethod\n",
        "  def stop_engine(self):\n",
        "    pass\n",
        "\n",
        "class Car(Vechicle):\n",
        "  def start_engine(self):\n",
        "    print(\"Engine started\")\n",
        "\n",
        "  def stop_engine(self):\n",
        "    print(\"Engine stopped\")\n",
        "\n",
        "car = Car()\n",
        "car.start_engine()"
      ],
      "metadata": {
        "colab": {
          "base_uri": "https://localhost:8080/"
        },
        "id": "rowOL00yTvsU",
        "outputId": "04d8af13-a4af-4540-a51a-48f4f135224a"
      },
      "execution_count": null,
      "outputs": [
        {
          "output_type": "stream",
          "name": "stdout",
          "text": [
            "Engine started\n"
          ]
        }
      ]
    },
    {
      "cell_type": "code",
      "source": [
        "# Example : Banking System\n",
        "from abc import ABC, abstractmethod\n",
        "\n",
        "class Bank(ABC):\n",
        "  @abstractmethod\n",
        "  def loan_interest(self):\n",
        "    pass\n",
        "\n",
        "class SBI(Bank):\n",
        "  def loan_interest(self):\n",
        "    return \"SBI Loan Interest: 8%\"\n",
        "\n",
        "class HDFC(Bank):  # Concrete Class\n",
        "    def loan_interest(self):\n",
        "        return \"HDFC Loan Interest: 10%\"\n",
        "\n",
        "sbi = SBI()\n",
        "hdfc = HDFC()\n",
        "\n",
        "print(sbi.loan_interest())\n",
        "print(hdfc.loan_interest())"
      ],
      "metadata": {
        "colab": {
          "base_uri": "https://localhost:8080/"
        },
        "id": "yZawSuQ4UYiM",
        "outputId": "c8f0a226-a55f-49d9-f4a2-b26b0e268fc1"
      },
      "execution_count": null,
      "outputs": [
        {
          "output_type": "stream",
          "name": "stdout",
          "text": [
            "SBI Loan Interest: 8%\n",
            "HDFC Loan Interest: 10%\n"
          ]
        }
      ]
    }
  ]
}