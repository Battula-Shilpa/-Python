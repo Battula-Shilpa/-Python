{
  "nbformat": 4,
  "nbformat_minor": 0,
  "metadata": {
    "colab": {
      "provenance": [],
      "mount_file_id": "1zFndAceOw99YBiapuH03mTnFDxOeAr5G",
      "authorship_tag": "ABX9TyOaEt0zWcCLP+q6UFCAQm70",
      "include_colab_link": true
    },
    "kernelspec": {
      "name": "python3",
      "display_name": "Python 3"
    },
    "language_info": {
      "name": "python"
    }
  },
  "cells": [
    {
      "cell_type": "markdown",
      "metadata": {
        "id": "view-in-github",
        "colab_type": "text"
      },
      "source": [
        "<a href=\"https://colab.research.google.com/github/Battula-Shilpa/-Python/blob/main/5_Pratice.ipynb\" target=\"_parent\"><img src=\"https://colab.research.google.com/assets/colab-badge.svg\" alt=\"Open In Colab\"/></a>"
      ]
    },
    {
      "cell_type": "code",
      "source": [
        "string = \"Python Programming\"\n",
        "print(string[::-1])"
      ],
      "metadata": {
        "colab": {
          "base_uri": "https://localhost:8080/"
        },
        "id": "ekoPp9i5Gs8e",
        "outputId": "e7577126-dd85-4b15-e259-83a11dce55d5"
      },
      "execution_count": null,
      "outputs": [
        {
          "output_type": "stream",
          "name": "stdout",
          "text": [
            "gnimmargorP nohtyP\n"
          ]
        }
      ]
    },
    {
      "cell_type": "code",
      "source": [
        "vowels = \"a\",\"e\",\"i\",\"o\",\"u\"\n",
        "word = \"Python\"\n",
        "count =0\n",
        "for i in word:\n",
        "  if i in vowels:\n",
        "    count +=1\n",
        "print(count)"
      ],
      "metadata": {
        "colab": {
          "base_uri": "https://localhost:8080/"
        },
        "id": "MdoJL-AWHw3s",
        "outputId": "b3fb2b08-c08a-4291-f32e-b4f0b86f2b19"
      },
      "execution_count": null,
      "outputs": [
        {
          "output_type": "stream",
          "name": "stdout",
          "text": [
            "1\n"
          ]
        }
      ]
    },
    {
      "cell_type": "code",
      "source": [
        "vowels = [\"a\",\"e\",\"i\",\"o\",\"u\"]\n",
        "word = \"Python\"\n",
        "count = 0\n",
        "for i in word:\n",
        "  if i not in vowels:\n",
        "    count +=1\n",
        "print(count)"
      ],
      "metadata": {
        "colab": {
          "base_uri": "https://localhost:8080/"
        },
        "id": "d6as1KLNIW0e",
        "outputId": "13f64402-0bfe-4b91-e67b-4e52e4ba60e8"
      },
      "execution_count": null,
      "outputs": [
        {
          "output_type": "stream",
          "name": "stdout",
          "text": [
            "5\n"
          ]
        }
      ]
    },
    {
      "cell_type": "code",
      "source": [
        "word = \"Python Programming\"\n",
        "character = 'g'\n",
        "count = 0\n",
        "for i in word:\n",
        "  if i == character:\n",
        "    count += 1\n",
        "print(count)"
      ],
      "metadata": {
        "colab": {
          "base_uri": "https://localhost:8080/"
        },
        "id": "JJHkT-0FJMSN",
        "outputId": "775ecf46-fd0b-417b-9a4b-9705e97ca6e0"
      },
      "execution_count": null,
      "outputs": [
        {
          "output_type": "stream",
          "name": "stdout",
          "text": [
            "2\n"
          ]
        }
      ]
    },
    {
      "cell_type": "code",
      "source": [
        "#fibonacci by using loop\n",
        "def fibonacci(n):\n",
        "  fib = [0,1]\n",
        "  #n = 5\n",
        "  for i in range(n):\n",
        "    fib.append(fib[-1] + fib[-2])\n",
        "  return fib[:n]\n",
        "\n",
        "n = int(input())\n",
        "print(fibonacci(n))"
      ],
      "metadata": {
        "colab": {
          "base_uri": "https://localhost:8080/"
        },
        "id": "_hJn5mnSKfzO",
        "outputId": "daed71fa-f9a2-4104-a8c4-746ee634f575"
      },
      "execution_count": null,
      "outputs": [
        {
          "output_type": "stream",
          "name": "stdout",
          "text": [
            "5\n",
            "[0, 1, 1, 2, 3]\n"
          ]
        }
      ]
    },
    {
      "cell_type": "code",
      "source": [
        "#using recursion\n",
        "def fibonacci(n):\n",
        "  if n <= 0:\n",
        "    return 0\n",
        "  elif n ==1:\n",
        "    return 1\n",
        "  else:\n",
        "    return fibonacci(n-1) + fibonacci(n-2)\n",
        "\n",
        "n = int(input())\n",
        "for i in range(n):\n",
        "  print(fibonacci(i),end= \" \")"
      ],
      "metadata": {
        "colab": {
          "base_uri": "https://localhost:8080/"
        },
        "id": "izxHG5SsLbaE",
        "outputId": "84c865d3-4e70-4f80-a04e-e67c35d26f92"
      },
      "execution_count": null,
      "outputs": [
        {
          "output_type": "stream",
          "name": "stdout",
          "text": [
            "5\n",
            "0 1 1 2 3 "
          ]
        }
      ]
    },
    {
      "cell_type": "code",
      "source": [
        "# Find the maximum number in list\n",
        "number = [1,23,43,22,1,2,23,2,22]\n",
        "max = number[0]\n",
        "for num in number:\n",
        "  if num > max:\n",
        "    max = num\n",
        "print(max)"
      ],
      "metadata": {
        "colab": {
          "base_uri": "https://localhost:8080/"
        },
        "id": "vpoGHywlPHGt",
        "outputId": "1cdbccef-ca0d-4147-ac22-1f6c0464b1cb"
      },
      "execution_count": null,
      "outputs": [
        {
          "output_type": "stream",
          "name": "stdout",
          "text": [
            "43\n"
          ]
        }
      ]
    },
    {
      "cell_type": "code",
      "source": [
        "#Minimum number\n",
        "number = [1,23,43,22,1,2,23,2,22]\n",
        "min = number[0]\n",
        "for num in number:\n",
        "  if num < min:\n",
        "    num = min\n",
        "print(min)"
      ],
      "metadata": {
        "colab": {
          "base_uri": "https://localhost:8080/"
        },
        "id": "8hemO6tyP1XK",
        "outputId": "30a78b19-17c9-4947-c3df-f42a527adf1c"
      },
      "execution_count": null,
      "outputs": [
        {
          "output_type": "stream",
          "name": "stdout",
          "text": [
            "1\n"
          ]
        }
      ]
    },
    {
      "cell_type": "code",
      "source": [
        "number = [1,23,43,22,1,2,23,2,22]\n",
        "max_num = [num for num in number if num >= max]\n",
        "print(max_num)"
      ],
      "metadata": {
        "colab": {
          "base_uri": "https://localhost:8080/"
        },
        "id": "f0MvFQJ-QJEl",
        "outputId": "54c83327-9211-4165-8501-21d9603f5bdb"
      },
      "execution_count": null,
      "outputs": [
        {
          "output_type": "stream",
          "name": "stdout",
          "text": [
            "[43]\n"
          ]
        }
      ]
    },
    {
      "cell_type": "code",
      "source": [
        "number = [1,23,43,22,1,2,23,2,22]\n",
        "middle_num = [number[len(number)//2]]\n",
        "print(middle_num)"
      ],
      "metadata": {
        "colab": {
          "base_uri": "https://localhost:8080/"
        },
        "id": "rI4giXEQWEjn",
        "outputId": "8f9bf42c-9f9f-40b3-fd28-4126f7887583"
      },
      "execution_count": null,
      "outputs": [
        {
          "output_type": "stream",
          "name": "stdout",
          "text": [
            "[1]\n"
          ]
        }
      ]
    },
    {
      "cell_type": "code",
      "source": [
        "#Pallindrome\n",
        "str = input(\"Enter a string: \")\n",
        "if str ==str[::-1]:\n",
        "  print(\"True\")\n",
        "else:\n",
        "  print(\"False\")"
      ],
      "metadata": {
        "colab": {
          "base_uri": "https://localhost:8080/"
        },
        "id": "qJb8nt2BZGgw",
        "outputId": "f1c0d680-373f-4aa5-881b-af3a02eb80d8"
      },
      "execution_count": null,
      "outputs": [
        {
          "output_type": "stream",
          "name": "stdout",
          "text": [
            "Enter a string: madam\n",
            "True\n"
          ]
        }
      ]
    },
    {
      "cell_type": "code",
      "source": [
        "#Build a pyramid\n",
        "def pyramid(n):\n",
        "  for i in range(n):\n",
        "    for j in range(i,n):\n",
        "      print(\" \",end=\"\")\n",
        "    for j in range(i+1):\n",
        "      print(\"*\",end=\"\")\n",
        "    for j in range(i):\n",
        "      print(\"*\",end=\"\")\n",
        "    print(\"\")\n",
        "\n",
        "   for i in range(n,0,-1):\n",
        "    for j in range(n-i):\n",
        "      print(\" \",end=\"\")\n",
        "    for j in range(2*i-1):\n",
        "      print(\"*\",end=\"\")\n",
        "    print(\"\")\n",
        "\n",
        "pyramid(5)"
      ],
      "metadata": {
        "colab": {
          "base_uri": "https://localhost:8080/"
        },
        "id": "02NuE_fNabPM",
        "outputId": "60543770-22ea-4a3e-bd29-1178c5aa0df8"
      },
      "execution_count": null,
      "outputs": [
        {
          "output_type": "stream",
          "name": "stdout",
          "text": [
            "     *\n",
            "    ***\n",
            "   *****\n",
            "  *******\n",
            " *********\n",
            "*********\n",
            " *******\n",
            "  *****\n",
            "   ***\n",
            "    *\n"
          ]
        }
      ]
    }
  ]
}