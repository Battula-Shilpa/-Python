{
  "nbformat": 4,
  "nbformat_minor": 0,
  "metadata": {
    "colab": {
      "provenance": [],
      "mount_file_id": "1InUAkUK70Liuup46YcwxBaTM_TdXaWZz",
      "authorship_tag": "ABX9TyP5isGNbkotcj6xtuRqoXT7",
      "include_colab_link": true
    },
    "kernelspec": {
      "name": "python3",
      "display_name": "Python 3"
    },
    "language_info": {
      "name": "python"
    }
  },
  "cells": [
    {
      "cell_type": "markdown",
      "metadata": {
        "id": "view-in-github",
        "colab_type": "text"
      },
      "source": [
        "<a href=\"https://colab.research.google.com/github/Battula-Shilpa/-Python/blob/main/6_Numpy.ipynb\" target=\"_parent\"><img src=\"https://colab.research.google.com/assets/colab-badge.svg\" alt=\"Open In Colab\"/></a>"
      ]
    },
    {
      "cell_type": "markdown",
      "source": [
        "- linear algebra library in python\n",
        "- Used for performing mathematical and logical operations\n",
        "- provides features for operations on multi-dimensional and matrices in python"
      ],
      "metadata": {
        "id": "coDEOdUbmkK0"
      }
    },
    {
      "cell_type": "markdown",
      "source": [
        "# **Basics**"
      ],
      "metadata": {
        "id": "qhNc_WD4CNOV"
      }
    },
    {
      "cell_type": "code",
      "execution_count": null,
      "metadata": {
        "id": "9ZLGmfDLByOk"
      },
      "outputs": [],
      "source": [
        "import numpy as np"
      ]
    },
    {
      "cell_type": "code",
      "source": [
        "# 1D array\n",
        "a = np.array([1,2,3,4,5])\n",
        "print(a)\n",
        "a.shape"
      ],
      "metadata": {
        "colab": {
          "base_uri": "https://localhost:8080/"
        },
        "id": "u3WSlMiNCmPv",
        "outputId": "d9d5a2a4-d71a-4740-f4fe-e0a4433dd9cd"
      },
      "execution_count": null,
      "outputs": [
        {
          "output_type": "stream",
          "name": "stdout",
          "text": [
            "[1 2 3 4 5]\n"
          ]
        },
        {
          "output_type": "execute_result",
          "data": {
            "text/plain": [
              "(5,)"
            ]
          },
          "metadata": {},
          "execution_count": 4
        }
      ]
    },
    {
      "cell_type": "code",
      "source": [
        "a[0]"
      ],
      "metadata": {
        "colab": {
          "base_uri": "https://localhost:8080/"
        },
        "id": "KQK87qf8opXc",
        "outputId": "4018204b-3253-4bab-f8b8-49784d85ae8d"
      },
      "execution_count": null,
      "outputs": [
        {
          "output_type": "execute_result",
          "data": {
            "text/plain": [
              "1"
            ]
          },
          "metadata": {},
          "execution_count": 19
        }
      ]
    },
    {
      "cell_type": "code",
      "source": [
        "a[1:4]"
      ],
      "metadata": {
        "colab": {
          "base_uri": "https://localhost:8080/"
        },
        "id": "lpgK5g-morC_",
        "outputId": "ce8244b4-62bd-433b-afe8-7055acbcaaf7"
      },
      "execution_count": null,
      "outputs": [
        {
          "output_type": "execute_result",
          "data": {
            "text/plain": [
              "array([2, 3, 4])"
            ]
          },
          "metadata": {},
          "execution_count": 21
        }
      ]
    },
    {
      "cell_type": "code",
      "source": [
        "a = np.array([1,2,3,4,5])\n",
        "b = np.array([6,7,8,9,0])\n",
        "print(a)\n",
        "print(b)"
      ],
      "metadata": {
        "colab": {
          "base_uri": "https://localhost:8080/"
        },
        "id": "2338jx7qC4R6",
        "outputId": "383d3c43-bb56-4e3d-f590-b441ef82dc5c"
      },
      "execution_count": null,
      "outputs": [
        {
          "output_type": "stream",
          "name": "stdout",
          "text": [
            "[1 2 3 4 5]\n",
            "[6 7 8 9 0]\n"
          ]
        }
      ]
    },
    {
      "cell_type": "code",
      "source": [
        "# 2D array\n",
        "arr = np.array([[1,2,3],[4,5,6]])\n",
        "print(arr)\n",
        "arr.shape"
      ],
      "metadata": {
        "colab": {
          "base_uri": "https://localhost:8080/"
        },
        "id": "i1Q7ZsdlDIs_",
        "outputId": "101cfb12-9aee-49d9-c05c-6e3181054949"
      },
      "execution_count": null,
      "outputs": [
        {
          "output_type": "stream",
          "name": "stdout",
          "text": [
            "[[1 2 3]\n",
            " [4 5 6]]\n"
          ]
        },
        {
          "output_type": "execute_result",
          "data": {
            "text/plain": [
              "(2, 3)"
            ]
          },
          "metadata": {},
          "execution_count": 14
        }
      ]
    },
    {
      "cell_type": "code",
      "source": [
        "arr[0]"
      ],
      "metadata": {
        "colab": {
          "base_uri": "https://localhost:8080/"
        },
        "id": "FoKlNwMSoBQW",
        "outputId": "c0f878c2-3ff2-4e84-b29e-737ccf393fe9"
      },
      "execution_count": null,
      "outputs": [
        {
          "output_type": "execute_result",
          "data": {
            "text/plain": [
              "array([1, 2, 3])"
            ]
          },
          "metadata": {},
          "execution_count": 15
        }
      ]
    },
    {
      "cell_type": "code",
      "source": [
        "arr[1]"
      ],
      "metadata": {
        "colab": {
          "base_uri": "https://localhost:8080/"
        },
        "id": "PkQOh052oUc_",
        "outputId": "63df5b1e-e095-4279-e830-dfbe6961ec63"
      },
      "execution_count": null,
      "outputs": [
        {
          "output_type": "execute_result",
          "data": {
            "text/plain": [
              "array([4, 5, 6])"
            ]
          },
          "metadata": {},
          "execution_count": 16
        }
      ]
    },
    {
      "cell_type": "code",
      "source": [
        "arr[:0]"
      ],
      "metadata": {
        "colab": {
          "base_uri": "https://localhost:8080/"
        },
        "id": "0TaoSplioXpA",
        "outputId": "217f70cd-76ed-4490-ffb6-ced55ce72c5c"
      },
      "execution_count": null,
      "outputs": [
        {
          "output_type": "execute_result",
          "data": {
            "text/plain": [
              "array([], shape=(0, 3), dtype=int64)"
            ]
          },
          "metadata": {},
          "execution_count": 17
        }
      ]
    },
    {
      "cell_type": "code",
      "source": [
        "arr[0:]"
      ],
      "metadata": {
        "colab": {
          "base_uri": "https://localhost:8080/"
        },
        "id": "Gcg9QJOCoiHB",
        "outputId": "9dfb57fe-7774-4ac7-de78-58df1afefd82"
      },
      "execution_count": null,
      "outputs": [
        {
          "output_type": "execute_result",
          "data": {
            "text/plain": [
              "array([[1, 2, 3],\n",
              "       [4, 5, 6]])"
            ]
          },
          "metadata": {},
          "execution_count": 18
        }
      ]
    },
    {
      "cell_type": "markdown",
      "source": [
        "- **Numpy array initialization**"
      ],
      "metadata": {
        "id": "Uxgn-nNKo5ZG"
      }
    },
    {
      "cell_type": "code",
      "source": [
        "#Zero array\n",
        "a = np.zeros([3,4])\n",
        "print(a)"
      ],
      "metadata": {
        "colab": {
          "base_uri": "https://localhost:8080/"
        },
        "id": "0NqkaoFWpQKz",
        "outputId": "6ffb9ef5-c9e1-415d-a5b6-85ed64e96a30"
      },
      "execution_count": null,
      "outputs": [
        {
          "output_type": "stream",
          "name": "stdout",
          "text": [
            "[[0. 0. 0. 0.]\n",
            " [0. 0. 0. 0.]\n",
            " [0. 0. 0. 0.]]\n"
          ]
        }
      ]
    },
    {
      "cell_type": "code",
      "source": [
        "a = np.array([10,25,5])\n",
        "print(a)"
      ],
      "metadata": {
        "colab": {
          "base_uri": "https://localhost:8080/"
        },
        "id": "9IrNE2aapiXK",
        "outputId": "139286ad-8f19-401a-f0bf-0ade2877f31f"
      },
      "execution_count": null,
      "outputs": [
        {
          "output_type": "stream",
          "name": "stdout",
          "text": [
            "[10 25  5]\n"
          ]
        }
      ]
    },
    {
      "cell_type": "code",
      "source": [
        "# np.arange(start,end,step)\n",
        "a = np.arange(1,10,2)\n",
        "print(a)"
      ],
      "metadata": {
        "colab": {
          "base_uri": "https://localhost:8080/"
        },
        "id": "byvUGpJhp38A",
        "outputId": "97b07648-f4a9-4103-f964-ebd8ebe85096"
      },
      "execution_count": null,
      "outputs": [
        {
          "output_type": "stream",
          "name": "stdout",
          "text": [
            "[1 3 5 7 9]\n"
          ]
        }
      ]
    },
    {
      "cell_type": "code",
      "source": [
        "arr = np.arange(10)\n",
        "print(arr)\n",
        "arr.shape"
      ],
      "metadata": {
        "colab": {
          "base_uri": "https://localhost:8080/"
        },
        "id": "SZRidN7BDhih",
        "outputId": "05837236-3df6-4b24-99e4-e57454f3af80"
      },
      "execution_count": null,
      "outputs": [
        {
          "output_type": "stream",
          "name": "stdout",
          "text": [
            "[0 1 2 3 4 5 6 7 8 9]\n"
          ]
        },
        {
          "output_type": "execute_result",
          "data": {
            "text/plain": [
              "(10,)"
            ]
          },
          "metadata": {},
          "execution_count": 8
        }
      ]
    },
    {
      "cell_type": "code",
      "source": [
        "arr = np.arange(6)\n",
        "a = arr.reshape(2,3)\n",
        "print(a)"
      ],
      "metadata": {
        "colab": {
          "base_uri": "https://localhost:8080/"
        },
        "id": "QIQTBnUIERIL",
        "outputId": "c11b9689-1343-47ef-f58e-f15df85e2f2b"
      },
      "execution_count": null,
      "outputs": [
        {
          "output_type": "stream",
          "name": "stdout",
          "text": [
            "[[0 1 2]\n",
            " [3 4 5]]\n"
          ]
        }
      ]
    },
    {
      "cell_type": "code",
      "source": [
        "arr.size"
      ],
      "metadata": {
        "colab": {
          "base_uri": "https://localhost:8080/"
        },
        "id": "Nr7Mrk5Ctll8",
        "outputId": "2b00712d-1a34-4cfe-dfe8-498739dcbf68"
      },
      "execution_count": null,
      "outputs": [
        {
          "output_type": "execute_result",
          "data": {
            "text/plain": [
              "6"
            ]
          },
          "metadata": {},
          "execution_count": 36
        }
      ]
    },
    {
      "cell_type": "code",
      "source": [
        "#np.linspace(start,end,number of points)\n",
        "arr = np.linspace(1,10, 4)\n",
        "print(arr)"
      ],
      "metadata": {
        "colab": {
          "base_uri": "https://localhost:8080/"
        },
        "id": "qnOf6addEzj-",
        "outputId": "3aaa6383-1c2e-43ca-b579-36ca5d2806c6"
      },
      "execution_count": null,
      "outputs": [
        {
          "output_type": "stream",
          "name": "stdout",
          "text": [
            "[ 1.  4.  7. 10.]\n"
          ]
        }
      ]
    },
    {
      "cell_type": "code",
      "source": [
        "arr = np.linspace(0,1, 5)\n",
        "print(arr)"
      ],
      "metadata": {
        "colab": {
          "base_uri": "https://localhost:8080/"
        },
        "id": "C5brZ5U6JObt",
        "outputId": "ea42b9c4-4c30-43e0-8f5c-ab9e29205c0d"
      },
      "execution_count": null,
      "outputs": [
        {
          "output_type": "stream",
          "name": "stdout",
          "text": [
            "[0.   0.25 0.5  0.75 1.  ]\n"
          ]
        }
      ]
    },
    {
      "cell_type": "markdown",
      "source": [
        "- **Fill SAME number in a array of dimension x X y**"
      ],
      "metadata": {
        "id": "Shj7i2MErHvF"
      }
    },
    {
      "cell_type": "code",
      "source": [
        "import numpy as np\n",
        "#np.full((row,column),numbertofill\n",
        "arr = np.full((3,4),5)\n",
        "print(arr)"
      ],
      "metadata": {
        "colab": {
          "base_uri": "https://localhost:8080/"
        },
        "id": "sKfj1pg8qeTS",
        "outputId": "14bba34f-d486-4f78-a70f-a01de6d1f983"
      },
      "execution_count": null,
      "outputs": [
        {
          "output_type": "stream",
          "name": "stdout",
          "text": [
            "[[5 5 5 5]\n",
            " [5 5 5 5]\n",
            " [5 5 5 5]]\n"
          ]
        }
      ]
    },
    {
      "cell_type": "code",
      "source": [
        "np.full((2,4),6)"
      ],
      "metadata": {
        "colab": {
          "base_uri": "https://localhost:8080/"
        },
        "id": "s2bYAgW7raaI",
        "outputId": "43db3169-7c08-4309-c2c0-231f0716e4b4"
      },
      "execution_count": null,
      "outputs": [
        {
          "output_type": "execute_result",
          "data": {
            "text/plain": [
              "array([[6, 6, 6, 6],\n",
              "       [6, 6, 6, 6]])"
            ]
          },
          "metadata": {},
          "execution_count": 30
        }
      ]
    },
    {
      "cell_type": "markdown",
      "source": [
        " - **filling RANDOM numbers in array of dimension x X y**"
      ],
      "metadata": {
        "id": "qtQb-lbMrhFl"
      }
    },
    {
      "cell_type": "code",
      "source": [
        "import numpy as np\n",
        "arr = np.random.random((2,3)) # tuple\n",
        "print(arr)"
      ],
      "metadata": {
        "colab": {
          "base_uri": "https://localhost:8080/"
        },
        "id": "6t9Dmd_0sF3r",
        "outputId": "d566a20f-6043-4bcc-9511-b7c2798c0ad1"
      },
      "execution_count": null,
      "outputs": [
        {
          "output_type": "stream",
          "name": "stdout",
          "text": [
            "[[0.65155281 0.20382033 0.67749148]\n",
            " [0.01446544 0.04573357 0.20274254]]\n"
          ]
        }
      ]
    },
    {
      "cell_type": "code",
      "source": [
        "arr = np.random.rand(2, 1, 5)\n",
        "print(arr)"
      ],
      "metadata": {
        "colab": {
          "base_uri": "https://localhost:8080/"
        },
        "id": "SrNogZsNJdXi",
        "outputId": "3d186fbe-c5fb-4841-fdbf-0c27c5e517c0"
      },
      "execution_count": null,
      "outputs": [
        {
          "output_type": "stream",
          "name": "stdout",
          "text": [
            "[[[0.07345219 0.83196922 0.89247254 0.94295852 0.87037264]]\n",
            "\n",
            " [[0.4488247  0.11605765 0.50304926 0.8069565  0.60605975]]]\n"
          ]
        }
      ]
    },
    {
      "cell_type": "code",
      "source": [
        "arr = np.random.rand(2,3)\n",
        "print(arr)"
      ],
      "metadata": {
        "colab": {
          "base_uri": "https://localhost:8080/"
        },
        "id": "4x4_EpvhKJLw",
        "outputId": "3f278004-7f52-4578-bf20-bb7ddf78031f"
      },
      "execution_count": null,
      "outputs": [
        {
          "output_type": "stream",
          "name": "stdout",
          "text": [
            "[[0.30053628 0.15879851 0.44164734]\n",
            " [0.87200133 0.76446693 0.53623482]]\n"
          ]
        }
      ]
    },
    {
      "cell_type": "code",
      "source": [
        "arr = np.array([[1,2],[3,4]])\n",
        "print(arr)"
      ],
      "metadata": {
        "colab": {
          "base_uri": "https://localhost:8080/"
        },
        "id": "vSMueGcxKVkL",
        "outputId": "eae6d033-3db0-41f4-f313-dca896ef81c2"
      },
      "execution_count": null,
      "outputs": [
        {
          "output_type": "stream",
          "name": "stdout",
          "text": [
            "[[1 2]\n",
            " [3 4]]\n"
          ]
        }
      ]
    },
    {
      "cell_type": "markdown",
      "source": [
        "- **ndim array**"
      ],
      "metadata": {
        "id": "hjNHnl8ot_dd"
      }
    },
    {
      "cell_type": "code",
      "source": [
        "a = np.array([[1,2,3],[4,5,6]])\n",
        "print(a.ndim)"
      ],
      "metadata": {
        "colab": {
          "base_uri": "https://localhost:8080/"
        },
        "id": "lvBmq_OWud4p",
        "outputId": "0c609c7b-97de-4753-c79e-c523982deb1f"
      },
      "execution_count": null,
      "outputs": [
        {
          "output_type": "stream",
          "name": "stdout",
          "text": [
            "2\n"
          ]
        }
      ]
    },
    {
      "cell_type": "code",
      "source": [
        "a.shape = (3,2)\n",
        "print(a.shape[0])\n",
        "print(a.shape[1])\n",
        "print(a.ndim) # returns the number of dimensions of the array\n",
        "print(a)"
      ],
      "metadata": {
        "colab": {
          "base_uri": "https://localhost:8080/"
        },
        "id": "Xubk3njwuBWB",
        "outputId": "67321d60-3ce9-4f8f-db1f-082a529d0998"
      },
      "execution_count": null,
      "outputs": [
        {
          "output_type": "stream",
          "name": "stdout",
          "text": [
            "3\n",
            "2\n",
            "2\n",
            "[[1 2]\n",
            " [3 4]\n",
            " [5 6]]\n"
          ]
        }
      ]
    },
    {
      "cell_type": "markdown",
      "source": [
        "- **dtype**\n",
        "  - Returns datatype of an array"
      ],
      "metadata": {
        "id": "vrcIWrrawCAZ"
      }
    },
    {
      "cell_type": "code",
      "source": [
        "import numpy as np\n",
        "a = np.arange(24,dtype = float)\n",
        "print(a.size)\n",
        "print(a.dtype)\n",
        "b = a.reshape(3,4,2)\n",
        "print(b)"
      ],
      "metadata": {
        "colab": {
          "base_uri": "https://localhost:8080/"
        },
        "id": "sNtP9BwhwNsd",
        "outputId": "2d624dbd-eccc-43bb-80d8-10fc1c2de9af"
      },
      "execution_count": null,
      "outputs": [
        {
          "output_type": "stream",
          "name": "stdout",
          "text": [
            "24\n",
            "float64\n",
            "[[[ 0.  1.]\n",
            "  [ 2.  3.]\n",
            "  [ 4.  5.]\n",
            "  [ 6.  7.]]\n",
            "\n",
            " [[ 8.  9.]\n",
            "  [10. 11.]\n",
            "  [12. 13.]\n",
            "  [14. 15.]]\n",
            "\n",
            " [[16. 17.]\n",
            "  [18. 19.]\n",
            "  [20. 21.]\n",
            "  [22. 23.]]]\n"
          ]
        }
      ]
    },
    {
      "cell_type": "code",
      "source": [
        "b = np.linspace(5,3,2)\n",
        "print(b.dtype)"
      ],
      "metadata": {
        "colab": {
          "base_uri": "https://localhost:8080/"
        },
        "id": "54ab1edexLEI",
        "outputId": "b9623bc7-a346-43c4-ddc0-a278d7bba791"
      },
      "execution_count": null,
      "outputs": [
        {
          "output_type": "stream",
          "name": "stdout",
          "text": [
            "float64\n"
          ]
        }
      ]
    },
    {
      "cell_type": "markdown",
      "source": [
        "- **Mathematical calculations**"
      ],
      "metadata": {
        "id": "JDNohx8Kw9CN"
      }
    },
    {
      "cell_type": "code",
      "source": [
        "# Addition\n",
        "import numpy as np\n",
        "np.sum([10,20])"
      ],
      "metadata": {
        "colab": {
          "base_uri": "https://localhost:8080/"
        },
        "id": "OMKmKQtdw8pQ",
        "outputId": "51c1b2bb-745c-4c6f-faa3-cb4269608ae2"
      },
      "execution_count": null,
      "outputs": [
        {
          "output_type": "execute_result",
          "data": {
            "text/plain": [
              "30"
            ]
          },
          "metadata": {},
          "execution_count": 48
        }
      ]
    },
    {
      "cell_type": "code",
      "source": [
        "a,b = 10,20\n",
        "np.sum([a,b])"
      ],
      "metadata": {
        "colab": {
          "base_uri": "https://localhost:8080/"
        },
        "id": "vbRfM11jxooc",
        "outputId": "136e5974-ee8c-47b1-f7b5-054d560ace34"
      },
      "execution_count": null,
      "outputs": [
        {
          "output_type": "execute_result",
          "data": {
            "text/plain": [
              "30"
            ]
          },
          "metadata": {},
          "execution_count": 49
        }
      ]
    },
    {
      "cell_type": "code",
      "source": [
        "np.sum([[2,1],[6,4]],axis = 0)"
      ],
      "metadata": {
        "colab": {
          "base_uri": "https://localhost:8080/"
        },
        "id": "KzbP9Pubxx7Y",
        "outputId": "851f4cfc-896a-444b-e17b-a49d0d1c79c9"
      },
      "execution_count": null,
      "outputs": [
        {
          "output_type": "execute_result",
          "data": {
            "text/plain": [
              "array([8, 5])"
            ]
          },
          "metadata": {},
          "execution_count": 51
        }
      ]
    },
    {
      "cell_type": "code",
      "source": [
        "np.sum([[1,3],[4,6]],axis = 1)"
      ],
      "metadata": {
        "colab": {
          "base_uri": "https://localhost:8080/"
        },
        "id": "KZ1T0Nabx--c",
        "outputId": "c3634755-70d9-462c-90f2-2bc8302c84ba"
      },
      "execution_count": null,
      "outputs": [
        {
          "output_type": "execute_result",
          "data": {
            "text/plain": [
              "array([ 4, 10])"
            ]
          },
          "metadata": {},
          "execution_count": 52
        }
      ]
    },
    {
      "cell_type": "code",
      "source": [
        "arr1 = np.array([[1,2],[3,4]])\n",
        "arr2 = np.array([[5,6],[7,8]])\n",
        "print(np.add(arr1,arr2)) # a+b\n",
        "print(np.subtract(arr1,arr2)) # a-b\n",
        "print(np.multiply(arr1,arr2)) # a*b\n",
        "print(np.divide(arr1,arr2))   #a/b\n",
        "print(np.exp(a)) #e^a\n",
        "print(np.sqrt(a))\n",
        "print(np.sin(a))\n",
        "print(np.cos(a))\n",
        "print(np.log(a))"
      ],
      "metadata": {
        "colab": {
          "base_uri": "https://localhost:8080/"
        },
        "id": "iOgMRj76xc1g",
        "outputId": "52363355-f9ed-435c-ae9d-c40cc2c9141e"
      },
      "execution_count": null,
      "outputs": [
        {
          "output_type": "stream",
          "name": "stdout",
          "text": [
            "[[ 6  8]\n",
            " [10 12]]\n",
            "[[-4 -4]\n",
            " [-4 -4]]\n",
            "[[ 5 12]\n",
            " [21 32]]\n",
            "[[0.2        0.33333333]\n",
            " [0.42857143 0.5       ]]\n",
            "22026.465794806718\n",
            "3.1622776601683795\n",
            "-0.5440211108893698\n",
            "-0.8390715290764524\n",
            "2.302585092994046\n"
          ]
        }
      ]
    },
    {
      "cell_type": "code",
      "source": [
        "a = ([[1,2,3],[4,5,6]])\n",
        "print(np.sum(a))\n",
        "print(np.min(a))\n",
        "print(np.max(a))\n",
        "print(np.mean(a))\n",
        "print(np.median(a))\n",
        "print(np.std(a))\n",
        "print(np.var(a))\n",
        "print(np.corrcoef(a))"
      ],
      "metadata": {
        "colab": {
          "base_uri": "https://localhost:8080/"
        },
        "id": "bQZ37pNjz4wn",
        "outputId": "2a9eca9c-455a-4e80-fe95-8087560da762"
      },
      "execution_count": null,
      "outputs": [
        {
          "output_type": "stream",
          "name": "stdout",
          "text": [
            "21\n",
            "1\n",
            "6\n",
            "3.5\n",
            "3.5\n",
            "1.707825127659933\n",
            "2.9166666666666665\n",
            "[[1. 1.]\n",
            " [1. 1.]]\n"
          ]
        }
      ]
    },
    {
      "cell_type": "markdown",
      "source": [
        "- **Boradcasting**"
      ],
      "metadata": {
        "id": "NEoKKNux04kL"
      }
    },
    {
      "cell_type": "code",
      "source": [
        "import numpy as np\n",
        "a = np.array([[9,0,0],[2,3,5],[4,6,8]])\n",
        "b = np.array([1,2,3])\n",
        "print(a+b)"
      ],
      "metadata": {
        "colab": {
          "base_uri": "https://localhost:8080/"
        },
        "id": "w82k926n1DKT",
        "outputId": "d94f0efb-b8e6-4c77-c90c-7fb61b350429"
      },
      "execution_count": null,
      "outputs": [
        {
          "output_type": "stream",
          "name": "stdout",
          "text": [
            "[[10  2  3]\n",
            " [ 3  5  8]\n",
            " [ 5  8 11]]\n"
          ]
        }
      ]
    },
    {
      "cell_type": "code",
      "source": [
        "print(a)"
      ],
      "metadata": {
        "colab": {
          "base_uri": "https://localhost:8080/"
        },
        "id": "58BMF63j1oq6",
        "outputId": "ccf9826b-0d80-49d8-c914-d2e693c47a92"
      },
      "execution_count": null,
      "outputs": [
        {
          "output_type": "stream",
          "name": "stdout",
          "text": [
            "[[9 0 0]\n",
            " [1 2 3]\n",
            " [2 3 5]]\n"
          ]
        }
      ]
    },
    {
      "cell_type": "code",
      "source": [
        "print(b)"
      ],
      "metadata": {
        "colab": {
          "base_uri": "https://localhost:8080/"
        },
        "id": "VwhvWfiE2Lk4",
        "outputId": "29d5dae7-f7cb-4fce-c1dc-bd1aa3b81a1a"
      },
      "execution_count": null,
      "outputs": [
        {
          "output_type": "stream",
          "name": "stdout",
          "text": [
            "[4 6 8]\n"
          ]
        }
      ]
    },
    {
      "cell_type": "code",
      "source": [
        "arr = np.array([[1,2,3],[4,5,6]])\n",
        "sum_along_columns = np.sum(arr,axis=0)\n",
        "print(\"Sum along columns (axis =0):\",sum_along_columns)\n",
        "\n",
        "sum_along_rows = np.sum(arr,axis=1)\n",
        "print(\"Sum along rows (axis =1):\",sum_along_rows)"
      ],
      "metadata": {
        "colab": {
          "base_uri": "https://localhost:8080/"
        },
        "id": "DVZaXeKkK2po",
        "outputId": "732b65f4-6370-4710-c55d-db5f547dfa0c"
      },
      "execution_count": null,
      "outputs": [
        {
          "output_type": "stream",
          "name": "stdout",
          "text": [
            "Sum along columns (axis =0): [5 7 9]\n",
            "Sum along rows (axis =1): [ 6 15]\n"
          ]
        }
      ]
    },
    {
      "cell_type": "markdown",
      "source": [
        "- **Indexing and Slicing**\n",
        "   - Indexing : Refer the position\n",
        "   - slicing : extract the element"
      ],
      "metadata": {
        "id": "3Z9JeCrjtYfZ"
      }
    },
    {
      "cell_type": "code",
      "source": [
        "a = np.array([[1,2,3],[4,5,6]])\n",
        "print(a)\n",
        "print(a[0])\n",
        "print(a[:1])\n",
        "print(a[:0])\n",
        "print(a[1:2])\n",
        "print(a[0:1])\n",
        "print(a[:,1:]) #slicing"
      ],
      "metadata": {
        "colab": {
          "base_uri": "https://localhost:8080/"
        },
        "id": "NQWpPA8G3G8K",
        "outputId": "472e5ed9-a4b8-4497-fbc1-307c7c11d972"
      },
      "execution_count": null,
      "outputs": [
        {
          "output_type": "stream",
          "name": "stdout",
          "text": [
            "[[1 2 3]\n",
            " [4 5 6]]\n",
            "[1 2 3]\n",
            "[[1 2 3]]\n",
            "[]\n",
            "[[4 5 6]]\n",
            "[[1 2 3]]\n",
            "[[2 3]\n",
            " [5 6]]\n"
          ]
        }
      ]
    },
    {
      "cell_type": "code",
      "source": [
        "arr_2d =np.array([[1,2,3],[4,5,6],[7,8,9]])\n",
        "print(arr_2d)\n",
        "\n",
        "#slicing\n",
        "print(arr_2d[1, :])\n",
        "print(arr_2d[:, 1])\n",
        "print(arr_2d[:,-1])\n",
        "print(arr_2d[::-1])\n",
        "print(arr_2d[0:2,0:2])\n",
        "print(arr_2d[::2,::2])"
      ],
      "metadata": {
        "colab": {
          "base_uri": "https://localhost:8080/"
        },
        "id": "Kdd77bhVMH5O",
        "outputId": "dfa89fca-1d26-444d-ec9d-80b246b5c7e8"
      },
      "execution_count": null,
      "outputs": [
        {
          "output_type": "stream",
          "name": "stdout",
          "text": [
            "[[1 2 3]\n",
            " [4 5 6]\n",
            " [7 8 9]]\n",
            "[4 5 6]\n",
            "[2 5 8]\n",
            "[3 6 9]\n",
            "[[7 8 9]\n",
            " [4 5 6]\n",
            " [1 2 3]]\n",
            "[[1 2]\n",
            " [4 5]]\n",
            "[[1 3]\n",
            " [7 9]]\n"
          ]
        }
      ]
    },
    {
      "cell_type": "code",
      "source": [
        "print(arr_2d[:2,2:])"
      ],
      "metadata": {
        "colab": {
          "base_uri": "https://localhost:8080/"
        },
        "id": "bAJ5LK994l8l",
        "outputId": "66663f1d-e05a-4c59-f3fc-997920a2a8fc"
      },
      "execution_count": null,
      "outputs": [
        {
          "output_type": "stream",
          "name": "stdout",
          "text": [
            "[[3]\n",
            " [6]]\n"
          ]
        }
      ]
    },
    {
      "cell_type": "code",
      "source": [
        "#concatenate\n",
        "a = np.array([[1,2,3],[4,5,6]])\n",
        "b = np.array([[7,8,9],[10,11,12]])\n",
        "print(a)\n",
        "print(b)\n",
        "np.concatenate((a,b),axis=0)"
      ],
      "metadata": {
        "colab": {
          "base_uri": "https://localhost:8080/"
        },
        "id": "7XNsWFG349FM",
        "outputId": "98236d3d-700b-4a01-e6ac-db43e0b2de59"
      },
      "execution_count": null,
      "outputs": [
        {
          "output_type": "stream",
          "name": "stdout",
          "text": [
            "[[1 2 3]\n",
            " [4 5 6]]\n",
            "[[ 7  8  9]\n",
            " [10 11 12]]\n"
          ]
        },
        {
          "output_type": "execute_result",
          "data": {
            "text/plain": [
              "array([[ 1,  2,  3],\n",
              "       [ 4,  5,  6],\n",
              "       [ 7,  8,  9],\n",
              "       [10, 11, 12]])"
            ]
          },
          "metadata": {},
          "execution_count": 9
        }
      ]
    },
    {
      "cell_type": "code",
      "source": [
        "c = np.array([[1,2,3],[4,5,6]])\n",
        "d = np.array([[1,2,3],[4,5,6]])\n",
        "np.concatenate((a,b),axis=1)"
      ],
      "metadata": {
        "colab": {
          "base_uri": "https://localhost:8080/"
        },
        "id": "gWBMt8Dgf-SO",
        "outputId": "1c0a610a-ee5c-4c05-9742-5d506a0c183e"
      },
      "execution_count": null,
      "outputs": [
        {
          "output_type": "execute_result",
          "data": {
            "text/plain": [
              "array([[1, 2, 3, 1, 2, 3],\n",
              "       [4, 5, 6, 4, 5, 6]])"
            ]
          },
          "metadata": {},
          "execution_count": 6
        }
      ]
    },
    {
      "cell_type": "markdown",
      "source": [
        "- **Array Manipulation**"
      ],
      "metadata": {
        "id": "hLLKQRTGpgVi"
      }
    },
    {
      "cell_type": "code",
      "source": [
        "# Array Manipulation\n",
        "# stacking doesnot work in 2D array\n",
        "print(np.stack((a,b),axis=0))"
      ],
      "metadata": {
        "colab": {
          "base_uri": "https://localhost:8080/"
        },
        "id": "6uwD2xnXgdwR",
        "outputId": "7dcf8e77-cb31-46ea-e5a4-885836f8c5d3"
      },
      "execution_count": null,
      "outputs": [
        {
          "output_type": "stream",
          "name": "stdout",
          "text": [
            "[[[1 2 3]\n",
            "  [4 5 6]]\n",
            "\n",
            " [[1 2 3]\n",
            "  [4 5 6]]]\n"
          ]
        }
      ]
    },
    {
      "cell_type": "code",
      "source": [
        "#hstack\n",
        "print(np.hstack((c,d)))"
      ],
      "metadata": {
        "colab": {
          "base_uri": "https://localhost:8080/"
        },
        "id": "sYJJAKzMhE6l",
        "outputId": "da9ecb5f-76a1-4b14-c102-a4068366dc80"
      },
      "execution_count": null,
      "outputs": [
        {
          "output_type": "stream",
          "name": "stdout",
          "text": [
            "[[1 2 3 1 2 3]\n",
            " [4 5 6 4 5 6]]\n"
          ]
        }
      ]
    },
    {
      "cell_type": "code",
      "source": [
        "#vstack\n",
        "print(np.vstack((c,d)))"
      ],
      "metadata": {
        "colab": {
          "base_uri": "https://localhost:8080/"
        },
        "id": "6raOWMm_h-kL",
        "outputId": "57cf973b-1a84-414a-b50a-8a413f75ad5b"
      },
      "execution_count": null,
      "outputs": [
        {
          "output_type": "stream",
          "name": "stdout",
          "text": [
            "[[1 2 3]\n",
            " [4 5 6]\n",
            " [1 2 3]\n",
            " [4 5 6]]\n"
          ]
        }
      ]
    },
    {
      "cell_type": "code",
      "source": [
        "a = np.array([[1,2,3],[4,5,6]])\n",
        "b = np.array([[7,8,9],[10,11,12]])\n",
        "print(\"A matrix\")\n",
        "print(a)\n",
        "print(\"B matrix\")\n",
        "print(b)\n",
        "print(\"---Horizontal stack---\")\n",
        "print(np.hstack((a,b)))\n",
        "print(\"---Horizontal Concatenate---\")\n",
        "print(np.concatenate((a,b),axis=0))\n",
        "print(\"---Vertical stack---\")\n",
        "print(np.vstack((a,b)))\n",
        "print(\"---Vetical Concatenate---\")\n",
        "print(np.concatenate((a,b),axis=1))"
      ],
      "metadata": {
        "colab": {
          "base_uri": "https://localhost:8080/"
        },
        "id": "uwtG76B7hX9T",
        "outputId": "5ac598c4-fd42-4396-ab96-73af6ca93d9e"
      },
      "execution_count": null,
      "outputs": [
        {
          "output_type": "stream",
          "name": "stdout",
          "text": [
            "A matrix\n",
            "[[1 2 3]\n",
            " [4 5 6]]\n",
            "B matrix\n",
            "[[ 7  8  9]\n",
            " [10 11 12]]\n",
            "---Horizontal stack---\n",
            "[[ 1  2  3  7  8  9]\n",
            " [ 4  5  6 10 11 12]]\n",
            "---Horizontal Concatenate---\n",
            "[[ 1  2  3]\n",
            " [ 4  5  6]\n",
            " [ 7  8  9]\n",
            " [10 11 12]]\n",
            "---Vertical stack---\n",
            "[[ 1  2  3]\n",
            " [ 4  5  6]\n",
            " [ 7  8  9]\n",
            " [10 11 12]]\n",
            "---Vetical Concatenate---\n",
            "[[ 1  2  3  7  8  9]\n",
            " [ 4  5  6 10 11 12]]\n"
          ]
        }
      ]
    },
    {
      "cell_type": "markdown",
      "source": [
        "- **Spliting Array**"
      ],
      "metadata": {
        "id": "-32qfIeJp1i8"
      }
    },
    {
      "cell_type": "code",
      "source": [
        "X = np.arange(16.0).reshape(4,4)\n",
        "print(X,\"\\n\\n\")\n",
        "print(np.hsplit(X,2),\"\\n\\n\")\n",
        "print(np.vsplit(X,2),\"\\n\\n\")"
      ],
      "metadata": {
        "colab": {
          "base_uri": "https://localhost:8080/"
        },
        "id": "9mowZ2RUp6bd",
        "outputId": "c3174d00-acb7-45d3-fc4b-26069e3b6cdb"
      },
      "execution_count": null,
      "outputs": [
        {
          "output_type": "stream",
          "name": "stdout",
          "text": [
            "[[ 0.  1.  2.  3.]\n",
            " [ 4.  5.  6.  7.]\n",
            " [ 8.  9. 10. 11.]\n",
            " [12. 13. 14. 15.]] \n",
            "\n",
            "\n",
            "[array([[ 0.,  1.],\n",
            "       [ 4.,  5.],\n",
            "       [ 8.,  9.],\n",
            "       [12., 13.]]), array([[ 2.,  3.],\n",
            "       [ 6.,  7.],\n",
            "       [10., 11.],\n",
            "       [14., 15.]])] \n",
            "\n",
            "\n",
            "[array([[0., 1., 2., 3.],\n",
            "       [4., 5., 6., 7.]]), array([[ 8.,  9., 10., 11.],\n",
            "       [12., 13., 14., 15.]])] \n",
            "\n",
            "\n"
          ]
        }
      ]
    },
    {
      "cell_type": "code",
      "source": [
        "print(X)\n",
        "print(np.split(X,2,axis=0))\n",
        "print(np.split(X,2,axis=1))"
      ],
      "metadata": {
        "colab": {
          "base_uri": "https://localhost:8080/"
        },
        "id": "k0Xqz8HArRxj",
        "outputId": "0f7f2786-6497-4bed-84b2-638a8f02ccc7"
      },
      "execution_count": null,
      "outputs": [
        {
          "output_type": "stream",
          "name": "stdout",
          "text": [
            "[[ 0.  1.  2.  3.]\n",
            " [ 4.  5.  6.  7.]\n",
            " [ 8.  9. 10. 11.]\n",
            " [12. 13. 14. 15.]]\n",
            "[array([[0., 1., 2., 3.],\n",
            "       [4., 5., 6., 7.]]), array([[ 8.,  9., 10., 11.],\n",
            "       [12., 13., 14., 15.]])]\n",
            "[array([[ 0.,  1.],\n",
            "       [ 4.,  5.],\n",
            "       [ 8.,  9.],\n",
            "       [12., 13.]]), array([[ 2.,  3.],\n",
            "       [ 6.,  7.],\n",
            "       [10., 11.],\n",
            "       [14., 15.]])]\n"
          ]
        }
      ]
    },
    {
      "cell_type": "code",
      "source": [
        "print(np.split(X,4,axis=1))"
      ],
      "metadata": {
        "colab": {
          "base_uri": "https://localhost:8080/"
        },
        "id": "zUyBOrCnsrZg",
        "outputId": "3973d225-0e8d-4a42-e9d4-06ba966aa271"
      },
      "execution_count": null,
      "outputs": [
        {
          "output_type": "stream",
          "name": "stdout",
          "text": [
            "[array([[ 0.],\n",
            "       [ 4.],\n",
            "       [ 8.],\n",
            "       [12.]]), array([[ 1.],\n",
            "       [ 5.],\n",
            "       [ 9.],\n",
            "       [13.]]), array([[ 2.],\n",
            "       [ 6.],\n",
            "       [10.],\n",
            "       [14.]]), array([[ 3.],\n",
            "       [ 7.],\n",
            "       [11.],\n",
            "       [15.]])]\n"
          ]
        }
      ]
    },
    {
      "cell_type": "code",
      "source": [
        "X[:,:1]"
      ],
      "metadata": {
        "colab": {
          "base_uri": "https://localhost:8080/"
        },
        "id": "Ef7pnR6QtHvF",
        "outputId": "11e8ae87-b49e-4578-9387-d82394562969"
      },
      "execution_count": null,
      "outputs": [
        {
          "output_type": "execute_result",
          "data": {
            "text/plain": [
              "array([[ 0.],\n",
              "       [ 4.],\n",
              "       [ 8.],\n",
              "       [12.]])"
            ]
          },
          "metadata": {},
          "execution_count": 50
        }
      ]
    },
    {
      "cell_type": "code",
      "source": [
        "X[:1,:2]"
      ],
      "metadata": {
        "colab": {
          "base_uri": "https://localhost:8080/"
        },
        "id": "Xomu__FBtOC1",
        "outputId": "b881e463-8a67-44cf-998e-8d97dacf8ee8"
      },
      "execution_count": null,
      "outputs": [
        {
          "output_type": "execute_result",
          "data": {
            "text/plain": [
              "array([[0., 1.]])"
            ]
          },
          "metadata": {},
          "execution_count": 53
        }
      ]
    },
    {
      "cell_type": "code",
      "source": [
        "arr1 = np.array([[1, 2], [3, 4]])\n",
        "arr2 = np.array([[5, 6], [7, 8]])\n",
        "dot_product = np.dot(arr1, arr2)\n",
        "\n",
        "print(dot_product)"
      ],
      "metadata": {
        "colab": {
          "base_uri": "https://localhost:8080/"
        },
        "id": "G15d2UE3Oqiv",
        "outputId": "4fda845f-23f5-4aeb-bc5a-780b51752661"
      },
      "execution_count": null,
      "outputs": [
        {
          "output_type": "stream",
          "name": "stdout",
          "text": [
            "[[19 22]\n",
            " [43 50]]\n"
          ]
        }
      ]
    },
    {
      "cell_type": "code",
      "source": [
        "arr = np.array([1,2,3,4,5])\n",
        "filtered = arr[arr>3]\n",
        "print(filtered)"
      ],
      "metadata": {
        "colab": {
          "base_uri": "https://localhost:8080/"
        },
        "id": "J76XffesPlad",
        "outputId": "81fa9eb4-7e7b-4489-a4b5-935fbf37734f"
      },
      "execution_count": null,
      "outputs": [
        {
          "output_type": "stream",
          "name": "stdout",
          "text": [
            "[4 5]\n"
          ]
        }
      ]
    },
    {
      "cell_type": "code",
      "source": [
        "import numpy as np\n",
        "arr = np.array([[1,2],[3,4]])\n",
        "new_row = np.array([[5,6]])\n",
        "new_arr = np.append(arr,new_row,axis=0)\n",
        "print(new_arr)"
      ],
      "metadata": {
        "colab": {
          "base_uri": "https://localhost:8080/"
        },
        "id": "9PNcq2kMP8D5",
        "outputId": "9dcb2b97-c18f-4754-dbc2-7efbde044725"
      },
      "execution_count": null,
      "outputs": [
        {
          "output_type": "stream",
          "name": "stdout",
          "text": [
            "[[1 2]\n",
            " [3 4]\n",
            " [5 6]]\n"
          ]
        }
      ]
    },
    {
      "cell_type": "code",
      "source": [
        "import numpy as np\n",
        "arr = np.array([[1,2],[3,4]])\n",
        "new_column = np.array([[5],[6]])\n",
        "new_arr = np.append(arr, new_column, axis=1)\n",
        "print(new_arr)"
      ],
      "metadata": {
        "colab": {
          "base_uri": "https://localhost:8080/"
        },
        "id": "Fhfqg6QMQrQf",
        "outputId": "181176e8-ce87-469f-bf94-0ad924c498a1"
      },
      "execution_count": null,
      "outputs": [
        {
          "output_type": "stream",
          "name": "stdout",
          "text": [
            "[[1 2 5]\n",
            " [3 4 6]]\n"
          ]
        }
      ]
    },
    {
      "cell_type": "code",
      "source": [
        "import numpy as np\n",
        "arr = np.array([[1,2],[3,4]])\n",
        "new_arr = np.delete(arr,1,axis=0)\n",
        "print(new_arr)"
      ],
      "metadata": {
        "colab": {
          "base_uri": "https://localhost:8080/"
        },
        "id": "8myarfUBST7P",
        "outputId": "413eda26-3509-41bb-ad5d-0431c3c9f95c"
      },
      "execution_count": null,
      "outputs": [
        {
          "output_type": "stream",
          "name": "stdout",
          "text": [
            "[[1 2]]\n"
          ]
        }
      ]
    },
    {
      "cell_type": "code",
      "source": [
        "import numpy as np\n",
        "arr = np.array([[1,2],[3,4]])\n",
        "new_row = np.array([99, 100])\n",
        "new_arr = np.insert(arr,1,new_row,axis=1)\n",
        "print(new_arr)"
      ],
      "metadata": {
        "id": "RYVcoIn6Se6G"
      },
      "execution_count": null,
      "outputs": []
    },
    {
      "cell_type": "markdown",
      "source": [
        "# **Example**"
      ],
      "metadata": {
        "id": "G5q__wmNtoDP"
      }
    },
    {
      "cell_type": "code",
      "source": [
        "#Numpy vs List : Memory size\n",
        "import numpy as np\n",
        "import sys\n",
        "\n",
        "#define a list\n",
        "l = range(1000)\n",
        "print(l)\n",
        "print(\"Size of a list:\",sys.getsizeof(5)*len(l))\n",
        "\n",
        "#define a numpy array\n",
        "a = np.arange(1000)\n",
        "print(\"Size of an array:\",a.size*a.itemsize)"
      ],
      "metadata": {
        "colab": {
          "base_uri": "https://localhost:8080/"
        },
        "id": "ejYwqcYDttI4",
        "outputId": "a00a8a44-46be-4415-8648-c26362cac291"
      },
      "execution_count": null,
      "outputs": [
        {
          "output_type": "stream",
          "name": "stdout",
          "text": [
            "range(0, 1000)\n",
            "Size of a list: 28000\n",
            "Size of an array: 8000\n",
            "range(0, 1000)\n"
          ]
        }
      ]
    }
  ]
}