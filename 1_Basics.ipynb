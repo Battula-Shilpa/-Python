{
  "nbformat": 4,
  "nbformat_minor": 0,
  "metadata": {
    "colab": {
      "provenance": [],
      "mount_file_id": "1JJWTIiwkEwU8pzVzXcmk9K6ESrksh_Zk",
      "authorship_tag": "ABX9TyNP5bPJZDXtDS1LYg3WFC89",
      "include_colab_link": true
    },
    "kernelspec": {
      "name": "python3",
      "display_name": "Python 3"
    },
    "language_info": {
      "name": "python"
    }
  },
  "cells": [
    {
      "cell_type": "markdown",
      "metadata": {
        "id": "view-in-github",
        "colab_type": "text"
      },
      "source": [
        "<a href=\"https://colab.research.google.com/github/Battula-Shilpa/-Python/blob/main/1_Basics.ipynb\" target=\"_parent\"><img src=\"https://colab.research.google.com/assets/colab-badge.svg\" alt=\"Open In Colab\"/></a>"
      ]
    },
    {
      "cell_type": "markdown",
      "source": [
        "# List"
      ],
      "metadata": {
        "id": "dfOzn8gCoOvf"
      }
    },
    {
      "cell_type": "markdown",
      "source": [
        "Introduction To Lists:\n",
        "- Lists are ordered, mutable collections of items.\n",
        "- They can contain items of different data types."
      ],
      "metadata": {
        "id": "F6oe6uW904eu"
      }
    },
    {
      "cell_type": "code",
      "source": [
        "Empty_list = []\n",
        "print(type(Empty_list))"
      ],
      "metadata": {
        "colab": {
          "base_uri": "https://localhost:8080/"
        },
        "id": "GFim-PPHl2RF",
        "outputId": "1663e50b-7795-4a2c-87bb-fe7290955b06"
      },
      "execution_count": null,
      "outputs": [
        {
          "output_type": "stream",
          "name": "stdout",
          "text": [
            "<class 'list'>\n"
          ]
        }
      ]
    },
    {
      "cell_type": "code",
      "source": [
        "#Initialization of list\n",
        "a = [1,2,3,4,5]\n",
        "print(a)"
      ],
      "metadata": {
        "colab": {
          "base_uri": "https://localhost:8080/"
        },
        "id": "sF-zg2XBo3Y0",
        "outputId": "d4d6966a-5704-44d6-d25a-6db1dcf831e8"
      },
      "execution_count": null,
      "outputs": [
        {
          "output_type": "stream",
          "name": "stdout",
          "text": [
            "[1, 2, 3, 4, 5]\n"
          ]
        }
      ]
    },
    {
      "cell_type": "code",
      "source": [
        "mixed_list = [\"Hello\" , 1 , 1.5, True]\n",
        "print(mixed_list)"
      ],
      "metadata": {
        "colab": {
          "base_uri": "https://localhost:8080/"
        },
        "id": "-qW57OfxpIlj",
        "outputId": "05ae79fe-6e25-498c-8e8b-5ed5687f9c15"
      },
      "execution_count": null,
      "outputs": [
        {
          "output_type": "stream",
          "name": "stdout",
          "text": [
            "['Hello', 1, 1.5, True]\n"
          ]
        }
      ]
    },
    {
      "cell_type": "code",
      "source": [
        "### Accessing List Elements\n",
        "a = [\"Banking\",\"Healthcare\",\"Retail\",\"lifescience\"]\n",
        "print(a)\n",
        "print(a[0])\n",
        "print(a[1])\n",
        "print(a[-1])"
      ],
      "metadata": {
        "colab": {
          "base_uri": "https://localhost:8080/"
        },
        "id": "_PJDIv6dpbON",
        "outputId": "1063bab4-f956-4ba7-f686-80d15d640a74"
      },
      "execution_count": null,
      "outputs": [
        {
          "output_type": "stream",
          "name": "stdout",
          "text": [
            "['Banking', 'Healthcare', 'Retail', 'lifescience']\n",
            "Banking\n",
            "Healthcare\n",
            "lifescience\n"
          ]
        }
      ]
    },
    {
      "cell_type": "code",
      "source": [
        "#### Read using slicing  # list[start:stop:step]\n",
        "print(a)\n",
        "print(a[1:])\n",
        "print(a[1:3])\n",
        "print(a[1:4:2])"
      ],
      "metadata": {
        "colab": {
          "base_uri": "https://localhost:8080/"
        },
        "id": "LdZkg3O3qQxb",
        "outputId": "64dd7729-205d-4e1e-b63e-c38371b1be53"
      },
      "execution_count": null,
      "outputs": [
        {
          "output_type": "stream",
          "name": "stdout",
          "text": [
            "['Banking', 'Healthcare', 'Retail', 'lifescience']\n",
            "['Healthcare', 'Retail', 'lifescience']\n",
            "['Healthcare', 'Retail']\n",
            "['Healthcare', 'lifescience']\n"
          ]
        }
      ]
    },
    {
      "cell_type": "code",
      "source": [
        "#Backward slicing using step in -ve\n",
        "age_list = [23,15,67,22,33,45,21,12]\n",
        "print(age_list)\n",
        "print(age_list[::-1]) #reverse\n",
        "print(age_list[-1:-8:-2])\n",
        "print(age_list[2:1:-1])\n",
        "print(age_list[3:1:-1])\n",
        "print(age_list[5:2:-1])"
      ],
      "metadata": {
        "colab": {
          "base_uri": "https://localhost:8080/"
        },
        "id": "1LYv8nEJquak",
        "outputId": "57accf8c-a826-41de-f60a-2b8e234f913c"
      },
      "execution_count": null,
      "outputs": [
        {
          "output_type": "stream",
          "name": "stdout",
          "text": [
            "[23, 15, 67, 22, 33, 45, 21, 12]\n",
            "[12, 21, 45, 33, 22, 67, 15, 23]\n",
            "[12, 45, 22, 15]\n",
            "[67]\n",
            "[22, 67]\n",
            "[45, 33, 22]\n"
          ]
        }
      ]
    },
    {
      "cell_type": "code",
      "source": [
        "numbers = [1,2,3,4,5,6,7,8,9,10]\n",
        "print(numbers[6:1:-1])\n",
        "print(numbers[8:4:-3])"
      ],
      "metadata": {
        "colab": {
          "base_uri": "https://localhost:8080/"
        },
        "id": "KbpVs0yTsY4V",
        "outputId": "e1e035f9-e276-4376-e976-1b109f7c17eb"
      },
      "execution_count": null,
      "outputs": [
        {
          "output_type": "stream",
          "name": "stdout",
          "text": [
            "[7, 6, 5, 4, 3]\n",
            "[9, 6]\n"
          ]
        }
      ]
    },
    {
      "cell_type": "code",
      "source": [
        "name = \"B Shilpa\"\n",
        "name[1:]"
      ],
      "metadata": {
        "colab": {
          "base_uri": "https://localhost:8080/",
          "height": 36
        },
        "id": "peZ8NEQ9xKMf",
        "outputId": "1a297e81-fd99-46d3-d621-ad4d98f6f023"
      },
      "execution_count": null,
      "outputs": [
        {
          "output_type": "execute_result",
          "data": {
            "text/plain": [
              "' Shilpa'"
            ],
            "application/vnd.google.colaboratory.intrinsic+json": {
              "type": "string"
            }
          },
          "metadata": {},
          "execution_count": 52
        }
      ]
    },
    {
      "cell_type": "code",
      "source": [
        "### Iterating Over List\n",
        "for i in numbers:\n",
        "  print(i)"
      ],
      "metadata": {
        "colab": {
          "base_uri": "https://localhost:8080/"
        },
        "id": "JrdXGXZ2yKCq",
        "outputId": "386aaad3-224c-48ba-9a23-a9ddbefc0303"
      },
      "execution_count": null,
      "outputs": [
        {
          "output_type": "stream",
          "name": "stdout",
          "text": [
            "1\n",
            "2\n",
            "3\n",
            "4\n",
            "5\n",
            "6\n",
            "7\n",
            "8\n",
            "9\n",
            "10\n"
          ]
        }
      ]
    },
    {
      "cell_type": "code",
      "source": [
        "## Iterating with index\n",
        "for index,i in enumerate(numbers):\n",
        "  print(index,i)"
      ],
      "metadata": {
        "colab": {
          "base_uri": "https://localhost:8080/"
        },
        "id": "wTHGy5szy86q",
        "outputId": "6505afef-ee80-41ce-dd7d-bf882a2a4ff5"
      },
      "execution_count": null,
      "outputs": [
        {
          "output_type": "stream",
          "name": "stdout",
          "text": [
            "0 1\n",
            "1 2\n",
            "2 3\n",
            "3 4\n",
            "4 5\n",
            "5 6\n",
            "6 7\n",
            "7 8\n",
            "8 9\n",
            "9 10\n"
          ]
        }
      ]
    },
    {
      "cell_type": "markdown",
      "source": [
        "# List Comprehension"
      ],
      "metadata": {
        "id": "xzKvCbl8y3eM"
      }
    },
    {
      "cell_type": "code",
      "source": [
        "#List compregension\n",
        "list = []\n",
        "for i in range(10):\n",
        "  list.append(i**2)\n",
        "print(list)"
      ],
      "metadata": {
        "colab": {
          "base_uri": "https://localhost:8080/"
        },
        "id": "BqkP5nkAy7-u",
        "outputId": "b33b56b8-4b59-4f62-e348-4567fe314048"
      },
      "execution_count": null,
      "outputs": [
        {
          "output_type": "stream",
          "name": "stdout",
          "text": [
            "[0, 1, 4, 9, 16, 25, 36, 49, 64, 81]\n"
          ]
        }
      ]
    },
    {
      "cell_type": "code",
      "source": [
        "### Basic List Comphrension\n",
        "sqaure = [num**2 for num in range(10)]\n",
        "print(sqaure)"
      ],
      "metadata": {
        "colab": {
          "base_uri": "https://localhost:8080/"
        },
        "id": "31hlTGmt0FA9",
        "outputId": "cf78db23-feed-431f-b731-5f55566843fe"
      },
      "execution_count": null,
      "outputs": [
        {
          "output_type": "stream",
          "name": "stdout",
          "text": [
            "[0, 1, 4, 9, 16, 25, 36, 49, 64, 81]\n"
          ]
        }
      ]
    },
    {
      "cell_type": "code",
      "source": [
        "### List Comprehension with Condition\n",
        "lst=[]\n",
        "for i in range(10):\n",
        "    if i%2==0:\n",
        "        lst.append(i)\n",
        "\n",
        "print(lst)"
      ],
      "metadata": {
        "colab": {
          "base_uri": "https://localhost:8080/"
        },
        "id": "Z-lEuVEg2KvJ",
        "outputId": "8cd04bd6-c149-4caf-f586-82e3162ad46e"
      },
      "execution_count": null,
      "outputs": [
        {
          "output_type": "stream",
          "name": "stdout",
          "text": [
            "[0, 2, 4, 6, 8]\n"
          ]
        }
      ]
    },
    {
      "cell_type": "code",
      "source": [
        "### Basic List Comphrension\n",
        "Even_numbers = [num for num in range(10) if num%2==0]\n",
        "print(Even_numbers)"
      ],
      "metadata": {
        "colab": {
          "base_uri": "https://localhost:8080/"
        },
        "id": "-nNpbyMM0zmc",
        "outputId": "949372d2-6d85-48cf-b2ad-b6983f05d1a6"
      },
      "execution_count": null,
      "outputs": [
        {
          "output_type": "stream",
          "name": "stdout",
          "text": [
            "[0, 2, 4, 6, 8]\n"
          ]
        }
      ]
    },
    {
      "cell_type": "code",
      "source": [
        "Odd_numbers= [num for num in range(10) if num%2==1]\n",
        "print(Odd_numbers)"
      ],
      "metadata": {
        "colab": {
          "base_uri": "https://localhost:8080/"
        },
        "id": "Gblisjqh1Kiq",
        "outputId": "93748f1a-d7ca-44c7-81a2-b6aae0582ab7"
      },
      "execution_count": null,
      "outputs": [
        {
          "output_type": "stream",
          "name": "stdout",
          "text": [
            "[1, 3, 5, 7, 9]\n"
          ]
        }
      ]
    },
    {
      "cell_type": "code",
      "source": [
        "list = [1,2,3,4,5,6,7,8]\n",
        "\n",
        "#update value 3 to 30\n",
        "updated_list = [30 if i==3 else i for i in list]\n",
        "print(updated_list)"
      ],
      "metadata": {
        "colab": {
          "base_uri": "https://localhost:8080/"
        },
        "id": "yQ6dvUpI2mcJ",
        "outputId": "0a1d5fc2-13f1-452a-edb8-7b35f00744f1"
      },
      "execution_count": null,
      "outputs": [
        {
          "output_type": "stream",
          "name": "stdout",
          "text": [
            "[1, 2, 30, 4, 5, 6, 7, 8]\n"
          ]
        }
      ]
    },
    {
      "cell_type": "code",
      "source": [
        "## Nested List Comphrension\n",
        "lst1 = [1,2,3,4]\n",
        "lst2 = ['a','b','c','d']\n",
        "pair = [[i,j] for i in lst1 for j in lst2]\n",
        "print(pair)"
      ],
      "metadata": {
        "colab": {
          "base_uri": "https://localhost:8080/"
        },
        "id": "iu_XSR344Ibx",
        "outputId": "ecf669b4-abc3-47aa-82c8-3a0af46cf36f"
      },
      "execution_count": null,
      "outputs": [
        {
          "output_type": "stream",
          "name": "stdout",
          "text": [
            "[[1, 'a'], [1, 'b'], [1, 'c'], [1, 'd'], [2, 'a'], [2, 'b'], [2, 'c'], [2, 'd'], [3, 'a'], [3, 'b'], [3, 'c'], [3, 'd'], [4, 'a'], [4, 'b'], [4, 'c'], [4, 'd']]\n"
          ]
        }
      ]
    },
    {
      "cell_type": "code",
      "source": [
        "## Nested List\n",
        "lst=[[1,2,3,4],[6,7,8,9],[1,\"Hello\",3.14,\"c\"]]\n",
        "lst[0][0:3]"
      ],
      "metadata": {
        "colab": {
          "base_uri": "https://localhost:8080/"
        },
        "id": "TGl5dIot6NwI",
        "outputId": "67339318-6b66-4da0-9767-533d9a3126de"
      },
      "execution_count": null,
      "outputs": [
        {
          "output_type": "execute_result",
          "data": {
            "text/plain": [
              "[1, 2, 3]"
            ]
          },
          "metadata": {},
          "execution_count": 75
        }
      ]
    },
    {
      "cell_type": "code",
      "source": [
        "## List Comprehension with function calls\n",
        "words = [\"s\",\"hi\",\"hello\", \"world\", \"python\", \"list\", \"comprehension\"]\n",
        "lengths = [len(word) for word in words]\n",
        "print(lengths)"
      ],
      "metadata": {
        "colab": {
          "base_uri": "https://localhost:8080/"
        },
        "id": "RyiHnKQV6WxO",
        "outputId": "5e9f149c-5473-42c2-d5a2-b3207358ee89"
      },
      "execution_count": null,
      "outputs": [
        {
          "output_type": "stream",
          "name": "stdout",
          "text": [
            "[1, 2, 5, 5, 6, 4, 13]\n"
          ]
        }
      ]
    },
    {
      "cell_type": "markdown",
      "source": [
        "# ***Tuple***"
      ],
      "metadata": {
        "id": "j7INAWQiJWzo"
      }
    },
    {
      "cell_type": "markdown",
      "source": [
        "Introduction to Tuples\n",
        "Explanation:\n",
        "\n",
        "- Tuples are ordered collections of items that are immutable. They are similar to lists, but their immutability makes them different"
      ],
      "metadata": {
        "id": "_9-61KgU1JZJ"
      }
    },
    {
      "cell_type": "code",
      "source": [
        "#creating a tuple\n",
        "emmpty_list = ()\n",
        "print(typle(empty_list))"
      ],
      "metadata": {
        "id": "lLCxK3wxJnt7"
      },
      "execution_count": null,
      "outputs": []
    },
    {
      "cell_type": "code",
      "source": [
        "tp1 = tuple()\n",
        "print(tuple(tp1))"
      ],
      "metadata": {
        "colab": {
          "base_uri": "https://localhost:8080/"
        },
        "id": "4tFoUdtCLtmV",
        "outputId": "33882e2a-c7de-49ec-b17e-e45462a6d0a1"
      },
      "execution_count": null,
      "outputs": [
        {
          "output_type": "stream",
          "name": "stdout",
          "text": [
            "()\n"
          ]
        }
      ]
    },
    {
      "cell_type": "code",
      "source": [
        "mixed_tuple = (1,\"Hello\",2.4,True)\n",
        "print(mixed_tuple)\n",
        "print(type(mixed_tuple))"
      ],
      "metadata": {
        "colab": {
          "base_uri": "https://localhost:8080/"
        },
        "id": "EvxFb4nzL7oA",
        "outputId": "4a18ea93-0d96-47b7-ec99-664d4d728bf7"
      },
      "execution_count": null,
      "outputs": [
        {
          "output_type": "stream",
          "name": "stdout",
          "text": [
            "(1, 'Hello', 2.4, True)\n",
            "<class 'tuple'>\n"
          ]
        }
      ]
    },
    {
      "cell_type": "code",
      "source": [
        "## Accessing Tuple Elements\n",
        "numbers = (1,2,3,4,5,6,7,8)\n",
        "print(numbers[:2])\n",
        "print(numbers[-1])\n",
        "print(numbers[0:4])\n",
        "numbers[::-1]"
      ],
      "metadata": {
        "colab": {
          "base_uri": "https://localhost:8080/"
        },
        "id": "QIKeaX8jMLNq",
        "outputId": "d5321a82-8b1e-4f76-a9f3-e5c4a3ff2ad4"
      },
      "execution_count": null,
      "outputs": [
        {
          "output_type": "stream",
          "name": "stdout",
          "text": [
            "(1, 2)\n",
            "8\n",
            "(1, 2, 3, 4)\n"
          ]
        },
        {
          "output_type": "execute_result",
          "data": {
            "text/plain": [
              "(8, 7, 6, 5, 4, 3, 2, 1)"
            ]
          },
          "metadata": {},
          "execution_count": 13
        }
      ]
    },
    {
      "cell_type": "code",
      "source": [
        "## Tuple Operations\n",
        "\n",
        "concatenation_tuple=numbers + mixed_tuple\n",
        "print(concatenation_tuple)"
      ],
      "metadata": {
        "colab": {
          "base_uri": "https://localhost:8080/"
        },
        "id": "dSY48KLrM2QH",
        "outputId": "35f414fe-9992-49c1-f331-52e6b77f93c2"
      },
      "execution_count": null,
      "outputs": [
        {
          "output_type": "stream",
          "name": "stdout",
          "text": [
            "(1, 2, 3, 4, 5, 6, 7, 8, 1, 'Hello', 2.4, True)\n"
          ]
        }
      ]
    },
    {
      "cell_type": "code",
      "source": [
        "mixed_tuple*3"
      ],
      "metadata": {
        "colab": {
          "base_uri": "https://localhost:8080/"
        },
        "id": "1EhYwuxuM4ur",
        "outputId": "78ff7aff-8443-46f4-a74b-514b42bf51b6"
      },
      "execution_count": null,
      "outputs": [
        {
          "output_type": "execute_result",
          "data": {
            "text/plain": [
              "(1, 'Hello', 2.4, True, 1, 'Hello', 2.4, True, 1, 'Hello', 2.4, True)"
            ]
          },
          "metadata": {},
          "execution_count": 15
        }
      ]
    },
    {
      "cell_type": "code",
      "source": [
        "numbers"
      ],
      "metadata": {
        "colab": {
          "base_uri": "https://localhost:8080/"
        },
        "id": "gEoax63qNDVk",
        "outputId": "3800e6bc-f9b2-47ba-ea65-a16eabb25212"
      },
      "execution_count": null,
      "outputs": [
        {
          "output_type": "execute_result",
          "data": {
            "text/plain": [
              "(1, 2, 3, 4, 5, 6, 7, 8)"
            ]
          },
          "metadata": {},
          "execution_count": 16
        }
      ]
    },
    {
      "cell_type": "code",
      "source": [
        "## Tuple Methods\n",
        "print(numbers.count(8))\n",
        "print(numbers.index(4))"
      ],
      "metadata": {
        "colab": {
          "base_uri": "https://localhost:8080/"
        },
        "id": "O0SpervwNHCe",
        "outputId": "09770b76-00f9-4f40-cdf7-48aa10a8a7c3"
      },
      "execution_count": null,
      "outputs": [
        {
          "output_type": "stream",
          "name": "stdout",
          "text": [
            "1\n",
            "3\n"
          ]
        }
      ]
    },
    {
      "cell_type": "code",
      "source": [
        "## Packing and Unpacking tuple\n",
        "## packing\n",
        "packed_tuple=1,\"Hello\",3.14\n",
        "print(packed_tuple)"
      ],
      "metadata": {
        "colab": {
          "base_uri": "https://localhost:8080/"
        },
        "id": "KfBt3whYNExP",
        "outputId": "cb124596-c53a-48f7-cffa-af7617e199d5"
      },
      "execution_count": null,
      "outputs": [
        {
          "output_type": "stream",
          "name": "stdout",
          "text": [
            "(1, 'Hello', 3.14)\n"
          ]
        }
      ]
    },
    {
      "cell_type": "code",
      "source": [
        "##unpacking a tuple\n",
        "a,b,c = packed_tuple\n",
        "print(a)\n",
        "print(b)\n",
        "print(c)"
      ],
      "metadata": {
        "colab": {
          "base_uri": "https://localhost:8080/"
        },
        "id": "Fq4W1tbhNfCN",
        "outputId": "7936f91b-1baa-4757-8063-70d792b9d51d"
      },
      "execution_count": null,
      "outputs": [
        {
          "output_type": "stream",
          "name": "stdout",
          "text": [
            "1\n",
            "Hello\n",
            "3.14\n"
          ]
        }
      ]
    },
    {
      "cell_type": "code",
      "source": [
        "## Unpacking with *\n",
        "numbers = (1,2,3,4,5,6,7,8)\n",
        "first,*middle,last = numbers\n",
        "print(first)\n",
        "print(middle)\n",
        "print(last)"
      ],
      "metadata": {
        "colab": {
          "base_uri": "https://localhost:8080/"
        },
        "id": "pAwMxAkdNs3o",
        "outputId": "35f59c16-b62b-4401-ca09-568c32f70ff9"
      },
      "execution_count": null,
      "outputs": [
        {
          "output_type": "stream",
          "name": "stdout",
          "text": [
            "1\n",
            "[2, 3, 4, 5, 6, 7]\n",
            "8\n"
          ]
        }
      ]
    },
    {
      "cell_type": "code",
      "source": [
        "lst = [[1,2,3,4],[5,6,7,8],(1,\"hello\",3.24,\"v\")]\n",
        "print(lst[0][0:3])\n",
        "print(lst[1][0:3])\n",
        "lst[2][0:3]"
      ],
      "metadata": {
        "colab": {
          "base_uri": "https://localhost:8080/"
        },
        "id": "nAEXW91UR9yL",
        "outputId": "e6fbf077-f06b-4e45-edca-f36d3dcd1cc0"
      },
      "execution_count": null,
      "outputs": [
        {
          "output_type": "stream",
          "name": "stdout",
          "text": [
            "[1, 2, 3]\n",
            "[5, 6, 7]\n"
          ]
        },
        {
          "output_type": "execute_result",
          "data": {
            "text/plain": [
              "(1, 'hello', 3.24)"
            ]
          },
          "metadata": {},
          "execution_count": 34
        }
      ]
    },
    {
      "cell_type": "code",
      "source": [
        "nested_tuple = ((1,2,3),(\"a\",\"b\",\"c\"),(True,False))\n",
        "print(nested_tuple[0])\n",
        "print(nested_tuple[1][2])\n",
        "print(nested_tuple[2][0:2])"
      ],
      "metadata": {
        "colab": {
          "base_uri": "https://localhost:8080/"
        },
        "id": "jZO32F8ITiu1",
        "outputId": "9122b71b-e531-401f-89ec-07b9b4865e61"
      },
      "execution_count": null,
      "outputs": [
        {
          "output_type": "stream",
          "name": "stdout",
          "text": [
            "(1, 2, 3)\n",
            "c\n",
            "(True, False)\n"
          ]
        }
      ]
    },
    {
      "cell_type": "code",
      "source": [
        "print(type(nested_tuple))"
      ],
      "metadata": {
        "colab": {
          "base_uri": "https://localhost:8080/"
        },
        "id": "4ctcB3uiXhlW",
        "outputId": "065e7f08-c605-4553-9922-01a41f618606"
      },
      "execution_count": null,
      "outputs": [
        {
          "output_type": "stream",
          "name": "stdout",
          "text": [
            "<class 'tuple'>\n"
          ]
        }
      ]
    },
    {
      "cell_type": "code",
      "source": [
        "## iterating over nested tuples\n",
        "for sub_tuple in nested_tuple:\n",
        "  for item in sub_tuple:\n",
        "    print(item,end = \" \")\n",
        "\n",
        "  print()"
      ],
      "metadata": {
        "colab": {
          "base_uri": "https://localhost:8080/"
        },
        "id": "UUlh0tNaX5tp",
        "outputId": "a8bd2bfe-7cec-46de-c1e0-6a61482cf914"
      },
      "execution_count": null,
      "outputs": [
        {
          "output_type": "stream",
          "name": "stdout",
          "text": [
            "1 2 3 \n",
            "a b c \n",
            "True False \n"
          ]
        }
      ]
    },
    {
      "cell_type": "markdown",
      "source": [
        "# Sets"
      ],
      "metadata": {
        "id": "9nWoW9oUbyqU"
      }
    },
    {
      "cell_type": "markdown",
      "source": [
        "- Sets are a built-in data type in Python used to store collections of unique items. They are unordered, meaning that the elements do not follow a specific order, and they do not allow duplicate elements. Sets are useful for membership tests, eliminating duplicate entries, and performing mathematical set operations like union, intersection, difference, and symmetric difference."
      ],
      "metadata": {
        "id": "KRiqHpob1VRE"
      }
    },
    {
      "cell_type": "code",
      "source": [
        "empty_set = set()\n",
        "print(type(empty_set))"
      ],
      "metadata": {
        "colab": {
          "base_uri": "https://localhost:8080/"
        },
        "id": "epHC3mowdImW",
        "outputId": "69f7fa56-a0a3-47d3-c169-09bb203d992a"
      },
      "execution_count": null,
      "outputs": [
        {
          "output_type": "stream",
          "name": "stdout",
          "text": [
            "<class 'set'>\n"
          ]
        }
      ]
    },
    {
      "cell_type": "code",
      "source": [
        "my_set = {0,1,2,3,4,5}\n",
        "print(my_set)\n",
        "print(type(my_set))"
      ],
      "metadata": {
        "colab": {
          "base_uri": "https://localhost:8080/"
        },
        "id": "CMNr8i6ib3uB",
        "outputId": "12b372fc-4ce7-4825-8151-4576270ee3df"
      },
      "execution_count": null,
      "outputs": [
        {
          "output_type": "stream",
          "name": "stdout",
          "text": [
            "{0, 1, 2, 3, 4, 5}\n",
            "<class 'set'>\n"
          ]
        }
      ]
    },
    {
      "cell_type": "code",
      "source": [
        "my_set = set([0,1,2,3,4,5,6])\n",
        "print(my_set)\n",
        "type(my_set)"
      ],
      "metadata": {
        "colab": {
          "base_uri": "https://localhost:8080/"
        },
        "id": "_oGjhLlgdFfo",
        "outputId": "b05b9026-b5b9-4f1d-967b-7480b0d3477c"
      },
      "execution_count": null,
      "outputs": [
        {
          "output_type": "stream",
          "name": "stdout",
          "text": [
            "{0, 1, 2, 3, 4, 5, 6}\n"
          ]
        },
        {
          "output_type": "execute_result",
          "data": {
            "text/plain": [
              "set"
            ]
          },
          "metadata": {},
          "execution_count": 63
        }
      ]
    },
    {
      "cell_type": "code",
      "source": [
        "## Basics Sets Operation\n",
        "## Adding and Removing Elements\n",
        "my_set.add(7)\n",
        "print(my_set)\n",
        "\n",
        "my_set.remove(0)\n",
        "print(my_set)"
      ],
      "metadata": {
        "colab": {
          "base_uri": "https://localhost:8080/"
        },
        "id": "WBhXXOmGd0jE",
        "outputId": "a8e53eab-8867-4d1e-8d42-cfcf426a557c"
      },
      "execution_count": null,
      "outputs": [
        {
          "output_type": "stream",
          "name": "stdout",
          "text": [
            "{0, 1, 2, 3, 4, 5, 6, 7}\n",
            "{1, 2, 3, 4, 5, 6, 7}\n"
          ]
        }
      ]
    },
    {
      "cell_type": "code",
      "source": [
        "my_set.discard(1)\n",
        "print(my_set)"
      ],
      "metadata": {
        "colab": {
          "base_uri": "https://localhost:8080/"
        },
        "id": "FGEFdscAeVKD",
        "outputId": "eaca3d94-3ec9-4b93-dcb4-958d6e7ea3e5"
      },
      "execution_count": null,
      "outputs": [
        {
          "output_type": "stream",
          "name": "stdout",
          "text": [
            "{2, 3, 4, 5, 6, 7}\n"
          ]
        }
      ]
    },
    {
      "cell_type": "code",
      "source": [
        "#pop method\n",
        "removed_element = my_set.pop()\n",
        "print(removed_element)\n",
        "print(my_set)"
      ],
      "metadata": {
        "colab": {
          "base_uri": "https://localhost:8080/"
        },
        "id": "8BIVygYleedx",
        "outputId": "6bec0b1a-d9d6-4c1d-8fa5-86e062901a51"
      },
      "execution_count": null,
      "outputs": [
        {
          "output_type": "stream",
          "name": "stdout",
          "text": [
            "5\n",
            "{6, 7}\n"
          ]
        }
      ]
    },
    {
      "cell_type": "code",
      "source": [
        "my_set.clear()\n",
        "print(my_set)"
      ],
      "metadata": {
        "colab": {
          "base_uri": "https://localhost:8080/"
        },
        "id": "M92oqAAQe5_6",
        "outputId": "dcc607c3-ff23-406c-8a46-0a5abe7846be"
      },
      "execution_count": null,
      "outputs": [
        {
          "output_type": "stream",
          "name": "stdout",
          "text": [
            "set()\n"
          ]
        }
      ]
    },
    {
      "cell_type": "code",
      "source": [
        "## Set Memebership test\n",
        "my_set={1,2,3,4,5}\n",
        "print(3 in my_set)\n",
        "print(10 in my_set)"
      ],
      "metadata": {
        "colab": {
          "base_uri": "https://localhost:8080/"
        },
        "id": "FD0Q_EhgfaLh",
        "outputId": "6539e0b9-077f-496e-87b4-a16b1d221f3c"
      },
      "execution_count": null,
      "outputs": [
        {
          "output_type": "stream",
          "name": "stdout",
          "text": [
            "True\n",
            "False\n"
          ]
        }
      ]
    },
    {
      "cell_type": "code",
      "source": [
        "## MAthematical Operation\n",
        "set1={1,2,3,4,5,6}\n",
        "set2={4,5,6,7,8,9}\n",
        "\n",
        "### Union\n",
        "union_set=set1.union(set2)\n",
        "print(union_set)\n",
        "\n",
        "## Intersection\n",
        "intersection_set=set1.intersection(set2)\n",
        "print(intersection_set)\n",
        "\n",
        "set1.intersection_update(set2)\n",
        "print(set1)"
      ],
      "metadata": {
        "colab": {
          "base_uri": "https://localhost:8080/"
        },
        "id": "JJprxaqyflOP",
        "outputId": "ba74b66a-3125-4df9-9113-d3de3ec493c7"
      },
      "execution_count": null,
      "outputs": [
        {
          "output_type": "stream",
          "name": "stdout",
          "text": [
            "{1, 2, 3, 4, 5, 6, 7, 8, 9}\n",
            "{4, 5, 6}\n",
            "{4, 5, 6}\n"
          ]
        }
      ]
    },
    {
      "cell_type": "code",
      "source": [
        "set1={1,2,3,4,5,6}\n",
        "set2={4,5,6,7,8,9}\n",
        "\n",
        "## Difference\n",
        "print(set1.difference(set2))"
      ],
      "metadata": {
        "colab": {
          "base_uri": "https://localhost:8080/"
        },
        "id": "FHjxQ8qUf9mJ",
        "outputId": "f433f5ed-e3d3-482b-b887-3bedb9399c26"
      },
      "execution_count": null,
      "outputs": [
        {
          "output_type": "stream",
          "name": "stdout",
          "text": [
            "{1, 2, 3}\n"
          ]
        }
      ]
    },
    {
      "cell_type": "code",
      "source": [
        "set2.difference(set1)"
      ],
      "metadata": {
        "colab": {
          "base_uri": "https://localhost:8080/"
        },
        "id": "RMNee9TrgHSM",
        "outputId": "53f6de6f-0047-42a7-b00f-7ee046ea4429"
      },
      "execution_count": null,
      "outputs": [
        {
          "output_type": "execute_result",
          "data": {
            "text/plain": [
              "{7, 8, 9}"
            ]
          },
          "metadata": {},
          "execution_count": 75
        }
      ]
    },
    {
      "cell_type": "code",
      "source": [
        "## Symmetric Difference\n",
        "set1.symmetric_difference(set2)"
      ],
      "metadata": {
        "colab": {
          "base_uri": "https://localhost:8080/"
        },
        "id": "KBJoo-nhgNi-",
        "outputId": "7770d37e-0806-4d85-d9d1-320d58295ef4"
      },
      "execution_count": null,
      "outputs": [
        {
          "output_type": "execute_result",
          "data": {
            "text/plain": [
              "{1, 2, 3, 7, 8, 9}"
            ]
          },
          "metadata": {},
          "execution_count": 76
        }
      ]
    },
    {
      "cell_type": "code",
      "source": [
        "## Sets Methods\n",
        "set1={1,2,3,4,5}\n",
        "set2={3,4,5}\n",
        "\n",
        "## is subset\n",
        "print(set1.issubset(set2))\n",
        "\n",
        "print(set1.issuperset(set2))"
      ],
      "metadata": {
        "colab": {
          "base_uri": "https://localhost:8080/"
        },
        "id": "gzjehwTkgQDA",
        "outputId": "27bda6c7-97d9-46d8-d61c-9f8f08114614"
      },
      "execution_count": null,
      "outputs": [
        {
          "output_type": "stream",
          "name": "stdout",
          "text": [
            "False\n",
            "True\n"
          ]
        }
      ]
    },
    {
      "cell_type": "code",
      "source": [
        "lst=[1,2,2,3,4,4,5]\n",
        "\n",
        "set(lst)"
      ],
      "metadata": {
        "colab": {
          "base_uri": "https://localhost:8080/"
        },
        "id": "f359mIs9gTAM",
        "outputId": "ac9d38f0-4f7f-4565-a08c-c567b336f849"
      },
      "execution_count": null,
      "outputs": [
        {
          "output_type": "execute_result",
          "data": {
            "text/plain": [
              "{1, 2, 3, 4, 5}"
            ]
          },
          "metadata": {},
          "execution_count": 78
        }
      ]
    },
    {
      "cell_type": "code",
      "source": [
        "### Counting Unique words in text\n",
        "\n",
        "text=\"In this tutorial we are discussing about sets\"\n",
        "words=text.split()\n",
        "\n",
        "## convert list of words to set to get unique words\n",
        "\n",
        "unique_words=set(words)\n",
        "print(unique_words)\n",
        "print(len(unique_words))"
      ],
      "metadata": {
        "colab": {
          "base_uri": "https://localhost:8080/"
        },
        "id": "3THB2oJXgXzf",
        "outputId": "29c24baa-3964-48a6-ed27-3e7cf8ef72bd"
      },
      "execution_count": null,
      "outputs": [
        {
          "output_type": "stream",
          "name": "stdout",
          "text": [
            "{'about', 'we', 'discussing', 'tutorial', 'sets', 'In', 'this', 'are'}\n",
            "8\n"
          ]
        }
      ]
    },
    {
      "cell_type": "markdown",
      "source": [
        "# Dictionary\n"
      ],
      "metadata": {
        "id": "UrekhAkteeJm"
      }
    },
    {
      "cell_type": "markdown",
      "source": [
        "Introduction to Dictionaries\n",
        "- Dictionaries are unordered collections of items. They store data in key-value pairs. Keys must be unique and immutable (e.g., strings, numbers, or tuples), while values can be of any type."
      ],
      "metadata": {
        "id": "0SwkzI9dhHun"
      }
    },
    {
      "cell_type": "code",
      "source": [
        "## Creating Dictionaries\n",
        "empty_dict={}\n",
        "print(type(empty_dict))"
      ],
      "metadata": {
        "colab": {
          "base_uri": "https://localhost:8080/"
        },
        "id": "GkLi5M8egrgm",
        "outputId": "dc465aad-a0af-4f4b-c60a-c3560e9e5916"
      },
      "execution_count": null,
      "outputs": [
        {
          "output_type": "stream",
          "name": "stdout",
          "text": [
            "<class 'dict'>\n"
          ]
        }
      ]
    },
    {
      "cell_type": "code",
      "source": [
        "empty_dict=dict()\n",
        "empty_dict"
      ],
      "metadata": {
        "colab": {
          "base_uri": "https://localhost:8080/"
        },
        "id": "G1N3DWIUg9A8",
        "outputId": "9ed11420-b7da-4b9d-a66e-07fdd93dcc2f"
      },
      "execution_count": null,
      "outputs": [
        {
          "output_type": "execute_result",
          "data": {
            "text/plain": [
              "{}"
            ]
          },
          "metadata": {},
          "execution_count": 82
        }
      ]
    },
    {
      "cell_type": "code",
      "source": [
        "#initializing the dict\n",
        "student={\"name\":\"Shilpa\",\"age\":21,\"grade\":1}\n",
        "print(student)\n",
        "print(type(student))"
      ],
      "metadata": {
        "colab": {
          "base_uri": "https://localhost:8080/"
        },
        "id": "p067wslrhVxO",
        "outputId": "7ba0272a-d87e-40c3-82ac-77937e66b0fa"
      },
      "execution_count": null,
      "outputs": [
        {
          "output_type": "stream",
          "name": "stdout",
          "text": [
            "{'name': 'Shilpa', 'age': 21, 'grade': 1}\n",
            "<class 'dict'>\n"
          ]
        }
      ]
    },
    {
      "cell_type": "code",
      "source": [
        "# Single key is always used\n",
        "student={\"name\":\"Shilpa\",\"age\":21,\"name\":1}\n",
        "print(student)"
      ],
      "metadata": {
        "colab": {
          "base_uri": "https://localhost:8080/"
        },
        "id": "YDulW1_NhmBo",
        "outputId": "a6677845-0274-42bf-c525-e57dff204bc3"
      },
      "execution_count": null,
      "outputs": [
        {
          "output_type": "stream",
          "name": "stdout",
          "text": [
            "{'name': 1, 'age': 21}\n"
          ]
        }
      ]
    },
    {
      "cell_type": "code",
      "source": [
        "## accessing Dictionary Elements\n",
        "student={\"name\":\"Shilpa\",\"age\":21,\"grade\":'A'}\n",
        "print(student)"
      ],
      "metadata": {
        "colab": {
          "base_uri": "https://localhost:8080/"
        },
        "id": "dmJSFEkOiHz8",
        "outputId": "dfc0a75d-f85f-4364-cad3-17fa1de7b1c9"
      },
      "execution_count": null,
      "outputs": [
        {
          "output_type": "stream",
          "name": "stdout",
          "text": [
            "{'name': 'Shilpa', 'age': 21, 'grade': 'A'}\n"
          ]
        }
      ]
    },
    {
      "cell_type": "code",
      "source": [
        "## Accessing Dictionary elements\n",
        "print(student['grade'])\n",
        "print(student['age'])\n",
        "\n",
        "## Accessing using get() method\n",
        "print(student.get('grade'))\n",
        "print(student.get('last_name'))\n",
        "print(student.get('last_name',\"Not Available\"))"
      ],
      "metadata": {
        "colab": {
          "base_uri": "https://localhost:8080/"
        },
        "id": "5faljz-eiS-c",
        "outputId": "92ef9e8a-1eba-47bb-d9e5-ddaa1c45b845"
      },
      "execution_count": null,
      "outputs": [
        {
          "output_type": "stream",
          "name": "stdout",
          "text": [
            "A\n",
            "21\n",
            "A\n",
            "None\n",
            "Not Available\n"
          ]
        }
      ]
    },
    {
      "cell_type": "code",
      "source": [
        "## Modifying Dicitonary Elements\n",
        "## Dictionary are mutable,so you can add, update or delete elements\n",
        "print(student)"
      ],
      "metadata": {
        "colab": {
          "base_uri": "https://localhost:8080/"
        },
        "id": "y_ZxxXyiieBg",
        "outputId": "c9b0e7ec-e048-4761-dc69-516513e61ad5"
      },
      "execution_count": null,
      "outputs": [
        {
          "output_type": "stream",
          "name": "stdout",
          "text": [
            "{'name': 'Shilpa', 'age': 21, 'grade': 'A'}\n"
          ]
        }
      ]
    },
    {
      "cell_type": "code",
      "source": [
        "student[\"age\"]=20  ##update value for the key\n",
        "print(student)\n",
        "student[\"address\"]=\"India\" ## added a new key and value\n",
        "print(student)"
      ],
      "metadata": {
        "colab": {
          "base_uri": "https://localhost:8080/"
        },
        "id": "3D4KjGmVigzo",
        "outputId": "f3d28539-a517-4dbb-fd0e-74a079060c99"
      },
      "execution_count": null,
      "outputs": [
        {
          "output_type": "stream",
          "name": "stdout",
          "text": [
            "{'name': 'Shilpa', 'age': 20, 'grade': 'A'}\n",
            "{'name': 'Shilpa', 'age': 20, 'grade': 'A', 'address': 'India'}\n"
          ]
        }
      ]
    },
    {
      "cell_type": "code",
      "source": [
        "del student['grade'] ## delete key and value pair\n",
        "\n",
        "print(student)"
      ],
      "metadata": {
        "colab": {
          "base_uri": "https://localhost:8080/"
        },
        "id": "aPth0wEMinO2",
        "outputId": "27706bc2-af8e-44d3-f037-b0a235c10f0e"
      },
      "execution_count": null,
      "outputs": [
        {
          "output_type": "stream",
          "name": "stdout",
          "text": [
            "{'name': 'Shilpa', 'age': 20, 'address': 'India'}\n"
          ]
        }
      ]
    },
    {
      "cell_type": "code",
      "source": [
        "## Dictionary methods\n",
        "\n",
        "keys=student.keys() ##get all the keys\n",
        "print(keys)\n",
        "values=student.values() ##get all values\n",
        "print(values)\n",
        "\n",
        "items=student.items() ##get all key value pairs\n",
        "print(items)"
      ],
      "metadata": {
        "colab": {
          "base_uri": "https://localhost:8080/"
        },
        "id": "VnvvZbEairva",
        "outputId": "96ebb812-4c20-47c4-c4f3-b7cf1ef2efc4"
      },
      "execution_count": null,
      "outputs": [
        {
          "output_type": "stream",
          "name": "stdout",
          "text": [
            "dict_keys(['name', 'age', 'address'])\n",
            "dict_values(['Shilpa', 20, 'India'])\n",
            "dict_items([('name', 'Shilpa'), ('age', 20), ('address', 'India')])\n"
          ]
        }
      ]
    },
    {
      "cell_type": "code",
      "source": [
        "## shallow copy\n",
        "student_copy=student\n",
        "print(student)\n",
        "print(student_copy)"
      ],
      "metadata": {
        "colab": {
          "base_uri": "https://localhost:8080/"
        },
        "id": "NFuKdG_iizYu",
        "outputId": "37e74ee1-67ae-4148-f84f-a160be2cf5dc"
      },
      "execution_count": null,
      "outputs": [
        {
          "output_type": "stream",
          "name": "stdout",
          "text": [
            "{'name': 'Shilpa', 'age': 20, 'address': 'India'}\n",
            "{'name': 'Shilpa', 'age': 20, 'address': 'India'}\n"
          ]
        }
      ]
    },
    {
      "cell_type": "code",
      "source": [
        "student[\"name\"]=\"Shilpa_Battula\"\n",
        "print(student)\n",
        "print(student_copy)"
      ],
      "metadata": {
        "colab": {
          "base_uri": "https://localhost:8080/"
        },
        "id": "IKi7vMYii40G",
        "outputId": "0e4a94f0-bcfd-4086-a044-072a0dff7daa"
      },
      "execution_count": null,
      "outputs": [
        {
          "output_type": "stream",
          "name": "stdout",
          "text": [
            "{'name': 'Shilpa_Battula', 'age': 20, 'address': 'India'}\n",
            "{'name': 'Shilpa_Battula', 'age': 20, 'address': 'India'}\n"
          ]
        }
      ]
    },
    {
      "cell_type": "code",
      "source": [
        "student_copy1=student.copy() ## shallow copy\n",
        "print(student_copy1)\n",
        "print(student)"
      ],
      "metadata": {
        "colab": {
          "base_uri": "https://localhost:8080/"
        },
        "id": "jzIJBbw7jHHf",
        "outputId": "1c8de5e8-969c-4fed-a650-d54649a34610"
      },
      "execution_count": null,
      "outputs": [
        {
          "output_type": "stream",
          "name": "stdout",
          "text": [
            "{'name': 'Shilpa_Battula', 'age': 20, 'address': 'India'}\n",
            "{'name': 'Shilpa_Battula', 'age': 20, 'address': 'India'}\n"
          ]
        }
      ]
    },
    {
      "cell_type": "code",
      "source": [
        "student[\"name\"]=\"Shilpa_B\"\n",
        "print(student_copy1)\n",
        "print(student)"
      ],
      "metadata": {
        "colab": {
          "base_uri": "https://localhost:8080/"
        },
        "id": "pHHZa6jwjNvq",
        "outputId": "c93ca08e-ff7a-4ded-afa0-5dd38539c58d"
      },
      "execution_count": null,
      "outputs": [
        {
          "output_type": "stream",
          "name": "stdout",
          "text": [
            "{'name': 'Shilpa_Battula', 'age': 20, 'address': 'India'}\n",
            "{'name': 'Shilpa_B', 'age': 20, 'address': 'India'}\n"
          ]
        }
      ]
    },
    {
      "cell_type": "code",
      "source": [
        "### Iterating Over Dictionaries\n",
        "## You can use loops to iterate over dictionatries, keys,values,or items\n",
        "\n",
        "## Iterating over keys\n",
        "for keys in student.keys():\n",
        "    print(keys)"
      ],
      "metadata": {
        "colab": {
          "base_uri": "https://localhost:8080/"
        },
        "id": "T8X-TnKqjWnB",
        "outputId": "e7b01d42-4fa7-4b7e-a70f-0df8ce631e10"
      },
      "execution_count": null,
      "outputs": [
        {
          "output_type": "stream",
          "name": "stdout",
          "text": [
            "name\n",
            "age\n",
            "address\n"
          ]
        }
      ]
    },
    {
      "cell_type": "code",
      "source": [
        "## Iterate over values\n",
        "for value in student.values():\n",
        "    print(value)"
      ],
      "metadata": {
        "colab": {
          "base_uri": "https://localhost:8080/"
        },
        "id": "Q9jiy0tVjZVo",
        "outputId": "0b8edbad-03b7-4d14-ab82-fa3e08e3cb43"
      },
      "execution_count": null,
      "outputs": [
        {
          "output_type": "stream",
          "name": "stdout",
          "text": [
            "Shilpa_B\n",
            "20\n",
            "India\n"
          ]
        }
      ]
    },
    {
      "cell_type": "code",
      "source": [
        "## Nested Disctionaries\n",
        "students={\n",
        "    \"student1\":{\"name\":\"John\",\"age\":32},\n",
        "    \"student2\":{\"name\":\"Peter\",\"age\":35}\n",
        "}\n",
        "print(students)"
      ],
      "metadata": {
        "colab": {
          "base_uri": "https://localhost:8080/"
        },
        "id": "42m3YlS7jeri",
        "outputId": "5e09f74a-993e-4013-91e7-e4268cf35c0f"
      },
      "execution_count": null,
      "outputs": [
        {
          "output_type": "stream",
          "name": "stdout",
          "text": [
            "{'student1': {'name': 'John', 'age': 32}, 'student2': {'name': 'Peter', 'age': 35}}\n"
          ]
        }
      ]
    },
    {
      "cell_type": "code",
      "source": [
        "students.items()"
      ],
      "metadata": {
        "colab": {
          "base_uri": "https://localhost:8080/"
        },
        "id": "yKYNJmL4jk38",
        "outputId": "421c03b7-2d84-4e94-d2be-c2604c3db27a"
      },
      "execution_count": null,
      "outputs": [
        {
          "output_type": "execute_result",
          "data": {
            "text/plain": [
              "dict_items([('student1', {'name': 'John', 'age': 32}), ('student2', {'name': 'Peter', 'age': 35})])"
            ]
          },
          "metadata": {},
          "execution_count": 102
        }
      ]
    },
    {
      "cell_type": "code",
      "source": [
        "## Iterating over nested dictionaries\n",
        "for student_id,student_info in students.items():\n",
        "    print(f\"{student_id}:{student_info}\")\n",
        "    for key,value in student_info.items():\n",
        "        print(f\"{key}:{value}\")"
      ],
      "metadata": {
        "colab": {
          "base_uri": "https://localhost:8080/"
        },
        "id": "E5gQEcVYjocz",
        "outputId": "2c93b34e-1be1-45d2-90be-dc9614f25a45"
      },
      "execution_count": null,
      "outputs": [
        {
          "output_type": "stream",
          "name": "stdout",
          "text": [
            "student1:{'name': 'John', 'age': 32}\n",
            "name:John\n",
            "age:32\n",
            "student2:{'name': 'Peter', 'age': 35}\n",
            "name:Peter\n",
            "age:35\n"
          ]
        }
      ]
    },
    {
      "cell_type": "code",
      "source": [
        "## Dictionary Comphrehension\n",
        "squares={x:x**2 for x in range(5)}\n",
        "print(squares)"
      ],
      "metadata": {
        "colab": {
          "base_uri": "https://localhost:8080/"
        },
        "id": "7_wSpS1-jshn",
        "outputId": "8f89fef4-45b7-40f3-e245-0c99bb21375b"
      },
      "execution_count": null,
      "outputs": [
        {
          "output_type": "stream",
          "name": "stdout",
          "text": [
            "{0: 0, 1: 1, 2: 4, 3: 9, 4: 16}\n"
          ]
        }
      ]
    },
    {
      "cell_type": "code",
      "source": [
        "dict1 = {\"key1\":\"value1\",\"key2\":\"value2\"}\n",
        "\n",
        "lst1=[1,2,3,4]; lst2= [\"Shilpa\"]\n",
        "\n",
        "newdict= {i:j for i in lst1 for j in lst2}\n",
        "\n",
        "dict2 = {key:value for key,value in dict1.items()}\n",
        "print(dict2)\n",
        "print(newdict)"
      ],
      "metadata": {
        "colab": {
          "base_uri": "https://localhost:8080/"
        },
        "id": "tpNeqXzTjwrX",
        "outputId": "28de882a-1911-418a-96e5-6cfedf7b4b39"
      },
      "execution_count": null,
      "outputs": [
        {
          "output_type": "stream",
          "name": "stdout",
          "text": [
            "{'key1': 'value1', 'key2': 'value2'}\n",
            "{1: 'Shilpa', 2: 'Shilpa', 3: 'Shilpa', 4: 'Shilpa'}\n"
          ]
        }
      ]
    },
    {
      "cell_type": "code",
      "source": [
        "## Practical Examples\n",
        "\n",
        "## USe a dictionary to count he frequency of elements in list\n",
        "\n",
        "numbers=[1,2,2,3,3,3,4,4,4,4]\n",
        "frequency={}\n",
        "\n",
        "for number in numbers:\n",
        "    if number in frequency:\n",
        "        frequency[number]+=1\n",
        "    else:\n",
        "        frequency[number]=1\n",
        "print(frequency)"
      ],
      "metadata": {
        "colab": {
          "base_uri": "https://localhost:8080/"
        },
        "id": "h01zwBUpj4od",
        "outputId": "d7e6fb0a-0f52-4fce-9c6a-0e73a7b9bd4b"
      },
      "execution_count": null,
      "outputs": [
        {
          "output_type": "stream",
          "name": "stdout",
          "text": [
            "{1: 1, 2: 2, 3: 3, 4: 4}\n"
          ]
        }
      ]
    },
    {
      "cell_type": "code",
      "source": [
        "for keys in frequency.keys():\n",
        "  print(keys)\n",
        "\n",
        "for values in frequency.values():\n",
        "  print(values)"
      ],
      "metadata": {
        "colab": {
          "base_uri": "https://localhost:8080/"
        },
        "id": "08fSqJI2jvJE",
        "outputId": "a743496b-c0c3-4ac6-ffc3-23eddaca6cfd"
      },
      "execution_count": null,
      "outputs": [
        {
          "output_type": "stream",
          "name": "stdout",
          "text": [
            "1\n",
            "2\n",
            "3\n",
            "4\n",
            "1\n",
            "2\n",
            "3\n",
            "4\n"
          ]
        }
      ]
    },
    {
      "cell_type": "code",
      "source": [
        "## Merge 2 dictionaries into one\n",
        "\n",
        "dict1={\"a\":1,\"b\":2}\n",
        "dict2={\"b\":3,\"c\":4}\n",
        "merged_dict={**dict1,**dict2}\n",
        "print(merged_dict)"
      ],
      "metadata": {
        "id": "SvNNOrJIj73B",
        "outputId": "646daad5-c77e-438d-f8be-9eda09fca878",
        "colab": {
          "base_uri": "https://localhost:8080/"
        }
      },
      "execution_count": null,
      "outputs": [
        {
          "output_type": "stream",
          "name": "stdout",
          "text": [
            "{'a': 1, 'b': 3, 'c': 4}\n"
          ]
        }
      ]
    },
    {
      "cell_type": "markdown",
      "source": [
        "# Loops in Python"
      ],
      "metadata": {
        "id": "alQ4PGtuqFk1"
      }
    },
    {
      "cell_type": "markdown",
      "source": [
        "**Why Loop**\n",
        "- Execute same code repeatedly.\n",
        "\n",
        "**While Loop**\n",
        "- Executes while condition true.\n",
        "\n",
        "**For Loop**\n",
        "- Executes for each item in iterable."
      ],
      "metadata": {
        "id": "VpynvItVqN5K"
      }
    },
    {
      "cell_type": "markdown",
      "source": [
        "**while loop**"
      ],
      "metadata": {
        "id": "xlhmg2HpuXjX"
      }
    },
    {
      "cell_type": "code",
      "source": [
        "i = 1\n",
        "while i<10:\n",
        "  print(\"The number\" + str(i))\n",
        "  i+=1"
      ],
      "metadata": {
        "colab": {
          "base_uri": "https://localhost:8080/"
        },
        "id": "QvXBXenfqkbW",
        "outputId": "9f92bde6-c452-4e00-b0cb-6a1eaf82cc7d"
      },
      "execution_count": null,
      "outputs": [
        {
          "output_type": "stream",
          "name": "stdout",
          "text": [
            "The number1\n",
            "The number2\n",
            "The number3\n",
            "The number4\n",
            "The number5\n",
            "The number6\n",
            "The number7\n",
            "The number8\n",
            "The number9\n"
          ]
        }
      ]
    },
    {
      "cell_type": "code",
      "source": [
        "number = int(input(\"Enter the number: \"))\n",
        "i = 1\n",
        "while i < 11:\n",
        "  print(number, \"*\",i,\"=\",number*i)\n",
        "  i +=1"
      ],
      "metadata": {
        "colab": {
          "base_uri": "https://localhost:8080/"
        },
        "id": "wbPXadvSrR7j",
        "outputId": "9d185953-bd72-4b51-c2a1-fe3800cf38c1"
      },
      "execution_count": null,
      "outputs": [
        {
          "output_type": "stream",
          "name": "stdout",
          "text": [
            "Enter the number: 99\n",
            "99 * 1 = 99\n",
            "99 * 2 = 198\n",
            "99 * 3 = 297\n",
            "99 * 4 = 396\n",
            "99 * 5 = 495\n",
            "99 * 6 = 594\n",
            "99 * 7 = 693\n",
            "99 * 8 = 792\n",
            "99 * 9 = 891\n",
            "99 * 10 = 990\n"
          ]
        }
      ]
    },
    {
      "cell_type": "code",
      "source": [
        "x = 0\n",
        "while x < 10:\n",
        "  print(x)\n",
        "  x = x+2\n"
      ],
      "metadata": {
        "colab": {
          "base_uri": "https://localhost:8080/"
        },
        "id": "__1o0Nyis0nY",
        "outputId": "ebe80e75-d6b9-4af1-dc0b-d6226ad63d9d"
      },
      "execution_count": null,
      "outputs": [
        {
          "output_type": "stream",
          "name": "stdout",
          "text": [
            "0\n",
            "2\n",
            "4\n",
            "6\n",
            "8\n"
          ]
        }
      ]
    },
    {
      "cell_type": "code",
      "source": [
        "list1 = [2,3,4,5,6,7,\"bank\"]\n",
        "\n",
        "for item in list1:\n",
        "  print(item)"
      ],
      "metadata": {
        "colab": {
          "base_uri": "https://localhost:8080/"
        },
        "id": "AlvAfOPqtl7Z",
        "outputId": "2f5ca6b3-7dd0-478c-d906-96833dd069b1"
      },
      "execution_count": null,
      "outputs": [
        {
          "output_type": "stream",
          "name": "stdout",
          "text": [
            "2\n",
            "3\n",
            "4\n",
            "5\n",
            "6\n",
            "7\n",
            "bank\n"
          ]
        }
      ]
    },
    {
      "cell_type": "markdown",
      "source": [
        " ***for loop***"
      ],
      "metadata": {
        "id": "u8fhlcQVt5Fb"
      }
    },
    {
      "cell_type": "code",
      "source": [
        "for delivery_city in [\"Kolkata\",\"Delhi\",\"Mumbai\"]:\n",
        "  print(delivery_city)"
      ],
      "metadata": {
        "colab": {
          "base_uri": "https://localhost:8080/"
        },
        "id": "-A3QdqlouxmP",
        "outputId": "9477f4bf-f1eb-4ab6-8aa8-4fa2117ff9e2"
      },
      "execution_count": null,
      "outputs": [
        {
          "output_type": "stream",
          "name": "stdout",
          "text": [
            "Kolkata\n",
            "Delhi\n",
            "Mumbai\n"
          ]
        }
      ]
    },
    {
      "cell_type": "code",
      "source": [
        "# range(start, stop, step) the range() function is used to generate a sequence of numbers.\n",
        "\n",
        "for productID in range(1,5):\n",
        "    print(productID)\n",
        "\n",
        "#Nested loops\n",
        "for i in range(1,5):\n",
        "  for j in range(1,5):\n",
        "    print(i,j)"
      ],
      "metadata": {
        "colab": {
          "base_uri": "https://localhost:8080/"
        },
        "id": "l_c9m347vYCt",
        "outputId": "b78e4558-90f2-4128-da5c-8fa024f9b685"
      },
      "execution_count": null,
      "outputs": [
        {
          "output_type": "stream",
          "name": "stdout",
          "text": [
            "1\n",
            "2\n",
            "3\n",
            "4\n",
            "1 1\n",
            "1 2\n",
            "1 3\n",
            "1 4\n",
            "2 1\n",
            "2 2\n",
            "2 3\n",
            "2 4\n",
            "3 1\n",
            "3 2\n",
            "3 3\n",
            "3 4\n",
            "4 1\n",
            "4 2\n",
            "4 3\n",
            "4 4\n"
          ]
        }
      ]
    },
    {
      "cell_type": "code",
      "source": [
        "for productID in range(10,20):\n",
        "  if productID > 15:\n",
        "    print(\"productID\" + str(productID) + \" is greater than 15\")\n",
        "  elif productID == 15:\n",
        "    print(\"productID\" + str(productID) + \"is equal to 15\")\n",
        "  else:\n",
        "    print(\"productID\" + str(productID) + \"is less to 15\")\n",
        "  print(productID)"
      ],
      "metadata": {
        "colab": {
          "base_uri": "https://localhost:8080/"
        },
        "id": "K5gcypUrwDwI",
        "outputId": "7443d093-ea3a-426e-cf20-d8ff647313c7"
      },
      "execution_count": null,
      "outputs": [
        {
          "output_type": "stream",
          "name": "stdout",
          "text": [
            "productID10is less to 15\n",
            "10\n",
            "productID11is less to 15\n",
            "11\n",
            "productID12is less to 15\n",
            "12\n",
            "productID13is less to 15\n",
            "13\n",
            "productID14is less to 15\n",
            "14\n",
            "productID15is equal to 15\n",
            "15\n",
            "productID16 is greater than 15\n",
            "16\n",
            "productID17 is greater than 15\n",
            "17\n",
            "productID18 is greater than 15\n",
            "18\n",
            "productID19 is greater than 15\n",
            "19\n"
          ]
        }
      ]
    },
    {
      "cell_type": "markdown",
      "source": [
        "# *Loop Control statements*"
      ],
      "metadata": {
        "id": "BS4CVJtvxtPJ"
      }
    },
    {
      "cell_type": "markdown",
      "source": [
        "- **Break**: Ends loop immediately.\n",
        "- **Continue**: Skips to next iteration.\n",
        "- **Pass**: Placeholder; does nothing."
      ],
      "metadata": {
        "id": "OFkwlvl2yDNG"
      }
    },
    {
      "cell_type": "code",
      "source": [
        "for i in range (1,10):\n",
        "  if i ==7:\n",
        "    print(\"test before break\")\n",
        "    break\n",
        "    print(\"test after continue break\")\n",
        "  print(i)"
      ],
      "metadata": {
        "colab": {
          "base_uri": "https://localhost:8080/"
        },
        "id": "JZa8pFVXyUHI",
        "outputId": "c7709e3b-422e-4f30-80c6-8530f295dfca"
      },
      "execution_count": null,
      "outputs": [
        {
          "output_type": "stream",
          "name": "stdout",
          "text": [
            "1\n",
            "2\n",
            "3\n",
            "4\n",
            "5\n",
            "6\n",
            "test before break\n"
          ]
        }
      ]
    },
    {
      "cell_type": "code",
      "source": [
        "for i in range (1,10):\n",
        "  if i == 5:\n",
        "    print(\"test before continue stmt\")\n",
        "    continue\n",
        "    print(\"test after continue stmt\")\n",
        "  print(i)"
      ],
      "metadata": {
        "colab": {
          "base_uri": "https://localhost:8080/"
        },
        "id": "74XriT0uyPvu",
        "outputId": "297f8462-039a-4d3b-9b23-810994597070"
      },
      "execution_count": null,
      "outputs": [
        {
          "output_type": "stream",
          "name": "stdout",
          "text": [
            "1\n",
            "2\n",
            "3\n",
            "4\n",
            "test before continue stmt\n",
            "6\n",
            "7\n",
            "8\n",
            "9\n"
          ]
        }
      ]
    },
    {
      "cell_type": "code",
      "source": [
        "for count in range(1, 6):\n",
        "    pass\n",
        "    print(\"If I get executed then why pass is used\")"
      ],
      "metadata": {
        "colab": {
          "base_uri": "https://localhost:8080/"
        },
        "id": "kCZAyGDRztSk",
        "outputId": "8848643a-245a-49c1-8abf-c3f8a6062e09"
      },
      "execution_count": null,
      "outputs": [
        {
          "output_type": "stream",
          "name": "stdout",
          "text": [
            "If I get executed then why pass is used\n",
            "If I get executed then why pass is used\n",
            "If I get executed then why pass is used\n",
            "If I get executed then why pass is used\n",
            "If I get executed then why pass is used\n"
          ]
        }
      ]
    }
  ]
}